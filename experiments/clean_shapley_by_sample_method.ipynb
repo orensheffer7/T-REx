{
 "cells": [
  {
   "cell_type": "code",
   "execution_count": 7,
   "metadata": {},
   "outputs": [],
   "source": [
    "%matplotlib inline\n",
    "import pandas as pd\n",
    "import numpy as np\n",
    "import collections\n",
    "\n",
    "import itertools\n",
    "import math\n",
    "import random\n",
    "import warnings\n",
    "import time\n",
    "warnings.filterwarnings('ignore')"
   ]
  },
  {
   "cell_type": "code",
   "execution_count": 4,
   "metadata": {},
   "outputs": [],
   "source": [
    "data = [\n",
    "    [\"Barcelona F.C.\", \"La Liga\", \"Barcelona\", \"Spain\", \"2019\", \"1\"],\n",
    "    [\"Real\", \"La Liga\", \"Madrid\", \"Espana\", \"2019\", \"3\"],\n",
    "    [\"Athletico\", \"La Liga\", \"Madrid\", \"Spain\", \"2019\", \"2\"],\n",
    "#     [\"Barcelona F.C.\", \"Barcelona\", \"Catalonia\", \"La Liga\", \"2018\", \"1\"],\n",
    "    [\"Athletico\", \"Spanish_League\", \"Madrid\", \"Spain\", \"2018\", \"2\"],\n",
    "    [\"Real\", \"La Liga\", \"Madrid\", \"Spain\", \"2018\", \"3\"],\n",
    "]\n",
    "\n",
    "df = pd.DataFrame(data, columns=[\"Team\", \"League\", \"City\", \"Country\", \"Year\", \"Rank\"])"
   ]
  },
  {
   "cell_type": "code",
   "execution_count": 5,
   "metadata": {},
   "outputs": [
    {
     "data": {
      "text/html": [
       "<div>\n",
       "<style scoped>\n",
       "    .dataframe tbody tr th:only-of-type {\n",
       "        vertical-align: middle;\n",
       "    }\n",
       "\n",
       "    .dataframe tbody tr th {\n",
       "        vertical-align: top;\n",
       "    }\n",
       "\n",
       "    .dataframe thead th {\n",
       "        text-align: right;\n",
       "    }\n",
       "</style>\n",
       "<table border=\"1\" class=\"dataframe\">\n",
       "  <thead>\n",
       "    <tr style=\"text-align: right;\">\n",
       "      <th></th>\n",
       "      <th>Team</th>\n",
       "      <th>League</th>\n",
       "      <th>City</th>\n",
       "      <th>Country</th>\n",
       "      <th>Year</th>\n",
       "      <th>Rank</th>\n",
       "    </tr>\n",
       "  </thead>\n",
       "  <tbody>\n",
       "    <tr>\n",
       "      <th>0</th>\n",
       "      <td>Barcelona F.C.</td>\n",
       "      <td>La Liga</td>\n",
       "      <td>Barcelona</td>\n",
       "      <td>Spain</td>\n",
       "      <td>2019</td>\n",
       "      <td>1</td>\n",
       "    </tr>\n",
       "    <tr>\n",
       "      <th>1</th>\n",
       "      <td>Real</td>\n",
       "      <td>La Liga</td>\n",
       "      <td>Madrid</td>\n",
       "      <td>Espana</td>\n",
       "      <td>2019</td>\n",
       "      <td>3</td>\n",
       "    </tr>\n",
       "    <tr>\n",
       "      <th>2</th>\n",
       "      <td>Athletico</td>\n",
       "      <td>La Liga</td>\n",
       "      <td>Madrid</td>\n",
       "      <td>Spain</td>\n",
       "      <td>2019</td>\n",
       "      <td>2</td>\n",
       "    </tr>\n",
       "    <tr>\n",
       "      <th>3</th>\n",
       "      <td>Athletico</td>\n",
       "      <td>Spanish_League</td>\n",
       "      <td>Madrid</td>\n",
       "      <td>Spain</td>\n",
       "      <td>2018</td>\n",
       "      <td>2</td>\n",
       "    </tr>\n",
       "    <tr>\n",
       "      <th>4</th>\n",
       "      <td>Real</td>\n",
       "      <td>La Liga</td>\n",
       "      <td>Madrid</td>\n",
       "      <td>Spain</td>\n",
       "      <td>2018</td>\n",
       "      <td>3</td>\n",
       "    </tr>\n",
       "  </tbody>\n",
       "</table>\n",
       "</div>"
      ],
      "text/plain": [
       "             Team          League       City Country  Year Rank\n",
       "0  Barcelona F.C.         La Liga  Barcelona   Spain  2019    1\n",
       "1            Real         La Liga     Madrid  Espana  2019    3\n",
       "2       Athletico         La Liga     Madrid   Spain  2019    2\n",
       "3       Athletico  Spanish_League     Madrid   Spain  2018    2\n",
       "4            Real         La Liga     Madrid   Spain  2018    3"
      ]
     },
     "execution_count": 5,
     "metadata": {},
     "output_type": "execute_result"
    }
   ],
   "source": [
    "df"
   ]
  },
  {
   "cell_type": "code",
   "execution_count": 75,
   "metadata": {},
   "outputs": [],
   "source": [
    "constraints = [1, 2, 3]"
   ]
  },
  {
   "cell_type": "code",
   "execution_count": 76,
   "metadata": {},
   "outputs": [],
   "source": [
    "def algo(df, constraints):\n",
    "    df_c = df.copy()\n",
    "    if 1 in constraints:\n",
    "        for i, r in df_c.iterrows():\n",
    "            if r.Team != \"NULL\" and r.City != \"NULL\":\n",
    "                errors = df_c[(df_c.Team == r.Team) & (df_c.City != r.City) & (df_c.City != \"NULL\")]\n",
    "                if errors.shape[0] > 0:\n",
    "                    c = collections.Counter(df_c[df_c.Team == r.Team].City)\n",
    "                    if \"NULL\" in c:\n",
    "                        c.pop(\"NULL\")\n",
    "                    if len(c) > 0:\n",
    "                        if c.most_common(1)[0][1] > 1:\n",
    "                            df_c[\"City\"][i] = c.most_common(1)[0][0] \n",
    "\n",
    "    if 2 in constraints:\n",
    "        for i, r in df_c.iterrows():\n",
    "            if r.League != \"NULL\" and r.Country != \"NULL\":\n",
    "                errors = df_c[(df_c.League == r.League) & (df_c.Country != r.Country) & (df_c.Country != \"NULL\")]\n",
    "                if errors.shape[0] > 0:\n",
    "                    c = collections.Counter(df_c[df_c.League == r.League].Country)\n",
    "                    if \"NULL\" in c:\n",
    "                        c.pop(\"NULL\")\n",
    "                    if len(c) > 0:\n",
    "                        if c.most_common(1)[0][1] > 1:\n",
    "                            df_c[\"Country\"][i] = c.most_common(1)[0][0]\n",
    "                                   \n",
    "                        \n",
    "    if 3 in constraints:\n",
    "        for i, r in df_c.iterrows():\n",
    "            if r.City != \"NULL\" and r.Country != \"NULL\":\n",
    "                errors = df_c[(df_c.City == r.City) & (df_c.Country != r.Country) & (df_c.Country != \"NULL\")]\n",
    "                if errors.shape[0] > 0:\n",
    "                    c = collections.Counter(df_c[df_c.City == r.City].Country)\n",
    "                    if \"NULL\" in c:\n",
    "                        c.pop(\"NULL\")\n",
    "                    if len(c) > 0:\n",
    "                        if c.most_common(1)[0][1] > 1:\n",
    "                            df_c[\"Country\"][i] = c.most_common(1)[0][0]\n",
    "\n",
    "\n",
    "    \n",
    "    return df_c"
   ]
  },
  {
   "cell_type": "code",
   "execution_count": 77,
   "metadata": {},
   "outputs": [
    {
     "data": {
      "text/html": [
       "<div>\n",
       "<style scoped>\n",
       "    .dataframe tbody tr th:only-of-type {\n",
       "        vertical-align: middle;\n",
       "    }\n",
       "\n",
       "    .dataframe tbody tr th {\n",
       "        vertical-align: top;\n",
       "    }\n",
       "\n",
       "    .dataframe thead th {\n",
       "        text-align: right;\n",
       "    }\n",
       "</style>\n",
       "<table border=\"1\" class=\"dataframe\">\n",
       "  <thead>\n",
       "    <tr style=\"text-align: right;\">\n",
       "      <th></th>\n",
       "      <th>Team</th>\n",
       "      <th>League</th>\n",
       "      <th>City</th>\n",
       "      <th>Country</th>\n",
       "      <th>Year</th>\n",
       "      <th>Rank</th>\n",
       "    </tr>\n",
       "  </thead>\n",
       "  <tbody>\n",
       "    <tr>\n",
       "      <th>0</th>\n",
       "      <td>Barcelona F.C.</td>\n",
       "      <td>La Liga</td>\n",
       "      <td>Barcelona</td>\n",
       "      <td>Spain</td>\n",
       "      <td>2019</td>\n",
       "      <td>1</td>\n",
       "    </tr>\n",
       "    <tr>\n",
       "      <th>1</th>\n",
       "      <td>Real</td>\n",
       "      <td>La Liga</td>\n",
       "      <td>Madrid</td>\n",
       "      <td>Spain</td>\n",
       "      <td>2019</td>\n",
       "      <td>3</td>\n",
       "    </tr>\n",
       "    <tr>\n",
       "      <th>2</th>\n",
       "      <td>Athletico</td>\n",
       "      <td>La Liga</td>\n",
       "      <td>Madrid</td>\n",
       "      <td>Spain</td>\n",
       "      <td>2019</td>\n",
       "      <td>2</td>\n",
       "    </tr>\n",
       "    <tr>\n",
       "      <th>3</th>\n",
       "      <td>Athletico</td>\n",
       "      <td>Spanish_League</td>\n",
       "      <td>Madrid</td>\n",
       "      <td>Spain</td>\n",
       "      <td>2018</td>\n",
       "      <td>2</td>\n",
       "    </tr>\n",
       "    <tr>\n",
       "      <th>4</th>\n",
       "      <td>Real</td>\n",
       "      <td>La Liga</td>\n",
       "      <td>Madrid</td>\n",
       "      <td>Spain</td>\n",
       "      <td>2018</td>\n",
       "      <td>3</td>\n",
       "    </tr>\n",
       "  </tbody>\n",
       "</table>\n",
       "</div>"
      ],
      "text/plain": [
       "             Team          League       City Country  Year Rank\n",
       "0  Barcelona F.C.         La Liga  Barcelona   Spain  2019    1\n",
       "1            Real         La Liga     Madrid   Spain  2019    3\n",
       "2       Athletico         La Liga     Madrid   Spain  2019    2\n",
       "3       Athletico  Spanish_League     Madrid   Spain  2018    2\n",
       "4            Real         La Liga     Madrid   Spain  2018    3"
      ]
     },
     "execution_count": 77,
     "metadata": {},
     "output_type": "execute_result"
    }
   ],
   "source": [
    "algo(df, [1, 2, 3])"
   ]
  },
  {
   "cell_type": "code",
   "execution_count": 78,
   "metadata": {},
   "outputs": [
    {
     "data": {
      "text/html": [
       "<div>\n",
       "<style scoped>\n",
       "    .dataframe tbody tr th:only-of-type {\n",
       "        vertical-align: middle;\n",
       "    }\n",
       "\n",
       "    .dataframe tbody tr th {\n",
       "        vertical-align: top;\n",
       "    }\n",
       "\n",
       "    .dataframe thead th {\n",
       "        text-align: right;\n",
       "    }\n",
       "</style>\n",
       "<table border=\"1\" class=\"dataframe\">\n",
       "  <thead>\n",
       "    <tr style=\"text-align: right;\">\n",
       "      <th></th>\n",
       "      <th>Team</th>\n",
       "      <th>League</th>\n",
       "      <th>City</th>\n",
       "      <th>Country</th>\n",
       "      <th>Year</th>\n",
       "      <th>Rank</th>\n",
       "    </tr>\n",
       "  </thead>\n",
       "  <tbody>\n",
       "    <tr>\n",
       "      <th>0</th>\n",
       "      <td>Barcelona F.C.</td>\n",
       "      <td>La Liga</td>\n",
       "      <td>Barcelona</td>\n",
       "      <td>Spain</td>\n",
       "      <td>2019</td>\n",
       "      <td>1</td>\n",
       "    </tr>\n",
       "    <tr>\n",
       "      <th>1</th>\n",
       "      <td>Real</td>\n",
       "      <td>La Liga</td>\n",
       "      <td>Madrid</td>\n",
       "      <td>Espana</td>\n",
       "      <td>2019</td>\n",
       "      <td>3</td>\n",
       "    </tr>\n",
       "    <tr>\n",
       "      <th>2</th>\n",
       "      <td>Athletico</td>\n",
       "      <td>La Liga</td>\n",
       "      <td>Madrid</td>\n",
       "      <td>Spain</td>\n",
       "      <td>2019</td>\n",
       "      <td>2</td>\n",
       "    </tr>\n",
       "    <tr>\n",
       "      <th>3</th>\n",
       "      <td>Athletico</td>\n",
       "      <td>Spanish_League</td>\n",
       "      <td>Madrid</td>\n",
       "      <td>Spain</td>\n",
       "      <td>2018</td>\n",
       "      <td>2</td>\n",
       "    </tr>\n",
       "    <tr>\n",
       "      <th>4</th>\n",
       "      <td>Real</td>\n",
       "      <td>La Liga</td>\n",
       "      <td>Madrid</td>\n",
       "      <td>Spain</td>\n",
       "      <td>2018</td>\n",
       "      <td>3</td>\n",
       "    </tr>\n",
       "  </tbody>\n",
       "</table>\n",
       "</div>"
      ],
      "text/plain": [
       "             Team          League       City Country  Year Rank\n",
       "0  Barcelona F.C.         La Liga  Barcelona   Spain  2019    1\n",
       "1            Real         La Liga     Madrid  Espana  2019    3\n",
       "2       Athletico         La Liga     Madrid   Spain  2019    2\n",
       "3       Athletico  Spanish_League     Madrid   Spain  2018    2\n",
       "4            Real         La Liga     Madrid   Spain  2018    3"
      ]
     },
     "execution_count": 78,
     "metadata": {},
     "output_type": "execute_result"
    }
   ],
   "source": [
    "df"
   ]
  },
  {
   "cell_type": "code",
   "execution_count": 11,
   "metadata": {},
   "outputs": [
    {
     "name": "stdout",
     "output_type": "stream",
     "text": [
      "{(): False, (1,): False, (2,): True, (3,): False, (1, 2): True, (1, 3): True, (2, 3): True, (1, 2, 3): True}\n"
     ]
    }
   ],
   "source": [
    "results = {}\n",
    "cell = (\"Country\", 4)\n",
    "\n",
    "\n",
    "for i in range(len(constraints) + 1):\n",
    "    for comb in itertools.combinations(constraints, i):\n",
    "        df_repair = algo(df, comb)\n",
    "        results[comb] = df[cell[0]][cell[1]] != df_repair[cell[0]][cell[1]]\n",
    "print (results)"
   ]
  },
  {
   "cell_type": "code",
   "execution_count": 12,
   "metadata": {},
   "outputs": [
    {
     "name": "stdout",
     "output_type": "stream",
     "text": [
      "1 16.666666666666664\n",
      "2 66.66666666666666\n",
      "3 16.666666666666664\n"
     ]
    }
   ],
   "source": [
    "for i in constraints:\n",
    "    shapley_value = 0\n",
    "    for comb in results:\n",
    "        if i not in comb:\n",
    "            \n",
    "            # Find comb_i             \n",
    "            for comb_i in results:\n",
    "                if i in comb_i and len(comb_i) == len(comb) + 1:\n",
    "                    is_match = True\n",
    "                    for x in comb:\n",
    "                        if x not in comb_i:\n",
    "                            is_match = False\n",
    "                    if is_match:\n",
    "                        break\n",
    "            factor = math.factorial(len(comb)) * math.factorial(len(constraints) - len(comb) - 1)\n",
    "            factor /= math.factorial(len(constraints))\n",
    "            shapley_value += factor * (results[comb_i] - results[comb])\n",
    "    print(i, shapley_value*100)"
   ]
  },
  {
   "cell_type": "code",
   "execution_count": 17,
   "metadata": {},
   "outputs": [],
   "source": [
    "def random_combination(iterable, r):\n",
    "    \"Random selection from itertools.combinations(iterable, r)\"\n",
    "    pool = tuple(iterable)\n",
    "    n = len(pool)\n",
    "    indices = sorted(random.Random(time.time()).sample(range(n), r))\n",
    "    return tuple(pool[i] for i in indices)"
   ]
  },
  {
   "cell_type": "code",
   "execution_count": 298,
   "metadata": {},
   "outputs": [],
   "source": [
    "def naive(df, constraints):\n",
    "    df_c = df.copy()\n",
    "#     if 1 in constraints:\n",
    "#         for i, r in df_c.iterrows():\n",
    "#             if r.Team != \"NULL\" and r.City != \"NULL\":\n",
    "#                 errors = df_c[(df_c.Team == r.Team) & (df_c.City != r.City) & (df_c.City != \"NULL\")]\n",
    "#                 if errors.shape[0] > 0:\n",
    "#                     c = collections.Counter(df_c[df_c.Team == r.Team].City)\n",
    "#                     if \"NULL\" in c:\n",
    "#                         c.pop(\"NULL\")\n",
    "#                     if len(c) > 0:\n",
    "#                         if c.most_common(1)[0][1] > 1:\n",
    "#                             df_c[\"City\"][i] = c.most_common(1)[0][0] \n",
    "\n",
    "#     if 2 in constraints:\n",
    "#         for i, r in df_c.iterrows():\n",
    "#             if r.League != \"NULL\" and r.Country != \"NULL\":\n",
    "#                 errors = df_c[(df_c.League == r.League) & (df_c.Country != r.Country) & (df_c.Country != \"NULL\")]\n",
    "#                 if errors.shape[0] > 0:\n",
    "#                     c = collections.Counter(df_c[df_c.League == r.League].Country)\n",
    "#                     if \"NULL\" in c:\n",
    "#                         c.pop(\"NULL\")\n",
    "#                     if len(c) > 0:\n",
    "#                         if c.most_common(1)[0][1] > 1:\n",
    "#                             df_c[\"Country\"][i] = c.most_common(1)[0][0]\n",
    "                                   \n",
    "                        \n",
    "    if 3 in constraints:\n",
    "        for i, r in df_c.iterrows():\n",
    "            if r.City != \"NULL\" and r.County != \"NULL\":\n",
    "                errors = df_c[(df_c.City == r.City) & (df_c.County != r.County) & (df_c.County != \"NULL\")]\n",
    "                if errors.shape[0] > 0:\n",
    "                    c = collections.Counter(df_c[df_c.City == r.City].County)\n",
    "                    if \"NULL\" in c:\n",
    "                        c.pop(\"NULL\")\n",
    "                    if len(c) > 0:\n",
    "                        if c.most_common(1)[0][1] > 1:\n",
    "                            df_c[\"County\"][i] = c.most_common(1)[0][0]\n",
    "\n",
    "\n",
    "    \n",
    "    return df_c"
   ]
  },
  {
   "cell_type": "code",
   "execution_count": 106,
   "metadata": {},
   "outputs": [],
   "source": [
    "def naive3(df, c = []):\n",
    "    df_c = df.copy()\n",
    "#     print(df_c)\n",
    "    for i, r in df_c.iterrows():\n",
    "        if r.Sex != \"NULL\" and r.Relationship != \"NULL\":\n",
    "            if r.Relationship == \"Husband\":\n",
    "                df_c[\"Sex\"][i] = \"Male\"\n",
    "            elif r.Sex == \"Wife\":\n",
    "                df_c[\"Sex\"][i] = \"Female\"\n",
    "    \n",
    "    return df_c"
   ]
  },
  {
   "cell_type": "code",
   "execution_count": 434,
   "metadata": {},
   "outputs": [
    {
     "name": "stdout",
     "output_type": "stream",
     "text": [
      "(200, 17)\n",
      "jefferson\n",
      "jxffxrson\n"
     ]
    },
    {
     "ename": "NameError",
     "evalue": "name 'col_shap' is not defined",
     "output_type": "error",
     "traceback": [
      "\u001b[1;31m---------------------------------------------------------------------------\u001b[0m",
      "\u001b[1;31mNameError\u001b[0m                                 Traceback (most recent call last)",
      "\u001b[1;32m<ipython-input-434-90672b3eea4e>\u001b[0m in \u001b[0;36m<module>\u001b[1;34m\u001b[0m\n\u001b[0;32m     97\u001b[0m             \u001b[0mis_repair_with\u001b[0m \u001b[1;33m=\u001b[0m \u001b[0mdf_repair\u001b[0m\u001b[1;33m[\u001b[0m\u001b[0mcol_repair\u001b[0m\u001b[1;33m]\u001b[0m\u001b[1;33m[\u001b[0m\u001b[0mrow_repair\u001b[0m\u001b[1;33m]\u001b[0m \u001b[1;33m==\u001b[0m \u001b[1;34m'jefferson'\u001b[0m\u001b[1;33m\u001b[0m\u001b[1;33m\u001b[0m\u001b[0m\n\u001b[0;32m     98\u001b[0m \u001b[1;33m\u001b[0m\u001b[0m\n\u001b[1;32m---> 99\u001b[1;33m             \u001b[0mdf_c\u001b[0m\u001b[1;33m[\u001b[0m\u001b[0mcol_shap\u001b[0m\u001b[1;33m]\u001b[0m\u001b[1;33m[\u001b[0m\u001b[0mi_shap\u001b[0m\u001b[1;33m]\u001b[0m \u001b[1;33m=\u001b[0m \u001b[1;34m\"NULL\"\u001b[0m\u001b[1;33m\u001b[0m\u001b[1;33m\u001b[0m\u001b[0m\n\u001b[0m\u001b[0;32m    100\u001b[0m \u001b[1;33m\u001b[0m\u001b[0m\n\u001b[0;32m    101\u001b[0m             \u001b[0mdf_repair\u001b[0m \u001b[1;33m=\u001b[0m \u001b[0mnaive\u001b[0m\u001b[1;33m(\u001b[0m\u001b[0mdf_c\u001b[0m\u001b[1;33m,\u001b[0m \u001b[0mconstraints\u001b[0m\u001b[1;33m)\u001b[0m\u001b[1;33m\u001b[0m\u001b[1;33m\u001b[0m\u001b[0m\n",
      "\u001b[1;31mNameError\u001b[0m: name 'col_shap' is not defined"
     ]
    }
   ],
   "source": [
    "warnings.filterwarnings('ignore')\n",
    "m = 10\n",
    "y = 1\n",
    "# appear_freq = {}\n",
    "# for e in range(y):\n",
    "#     appear_freq[e]={}\n",
    "#     for k in real_shap.keys():\n",
    "#         appear_freq[e][k] = {}\n",
    "#         appear_freq[e][k][-1] = 0\n",
    "#         for i in range(m):\n",
    "#             appear_freq[e][k][i] = 0\n",
    "\n",
    "results= {}\n",
    "for cell in cells:\n",
    "    results[str(cell)] = 0\n",
    "\n",
    "\n",
    "df = pd.read_csv('./testdata/hospital_100_2.csv')\n",
    "# constraints_path = './testdata/hospital_constraints.txt'\n",
    "constraints_for_alg = [1, 2, 3]\n",
    "start = time.time()\n",
    "# df = pd.read_csv('./testdata/La_liga2.csv')\n",
    "# constraints_path = './testdata/La_liga_constraints.txt'\n",
    "\n",
    "\n",
    "\n",
    "print(df.shape)\n",
    "\n",
    "df_copy = df.copy()\n",
    "\n",
    "cell_repair = (40, \"County\")\n",
    "row_repair, col_repair = cell_repair[0], cell_repair[1]\n",
    "column = cell_repair[1]\n",
    "\n",
    "before_fix = df_copy[column][cell_repair[0]]\n",
    "# df_repair = run_holoclean(df_copy, constraints_path, [column])\n",
    "df_repair = naive(df_copy, [1, 2, 3])\n",
    "after_fix = df_repair[column][cell_repair[0]]\n",
    "\n",
    "print(after_fix)\n",
    "print(df_copy[column][cell_repair[0]])\n",
    "\n",
    "relevant_rows = df_repair[df_repair[column]==df_repair[column][cell_repair[0]]]\n",
    "# relevant_attributes = create_constraints_file(constraints_path, [column])\n",
    "relevant_attributes = [\"City\", \"County\"]\n",
    "cells = list(itertools.product(relevant_rows.index, relevant_attributes))\n",
    "\n",
    "# print(cells)\n",
    "# print(len(cells))\n",
    "\n",
    "\n",
    "cells.remove(cell_repair)\n",
    "cells_copy = cells.copy()\n",
    "\n",
    "memo_dict = {}\n",
    "for k in range(y):\n",
    "    memo_dict[k] = {}\n",
    "    for cell in cells:\n",
    "        memo_dict[k][str(cell)] = {\"is_fix_with_cell\" : {}, \"is_fix_without_cell\" : {}}\n",
    "\n",
    "weights = []\n",
    "params = []\n",
    "    \n",
    "# start = time.time()\n",
    "# r = np.random.binomial(len(cells),0.5)\n",
    "# p = random.uniform(0, 1)\n",
    "\n",
    "# r = int(len(cells) * p)\n",
    "\n",
    "N = 100 # 10000\n",
    "d = 11 # 10\n",
    "\n",
    "\n",
    "for k in range(y):\n",
    "    # Array of what ad was selected in a particular rotation\n",
    "    ads_selected = []\n",
    "\n",
    "    num_ad_selected = np.zeros(d)\n",
    "    num_ad_win = np.zeros(d)\n",
    "\n",
    "    # Total of rewards obtained\n",
    "    total_reward = 0\n",
    "\n",
    "    # array of reward values at each rotation\n",
    "    rewards = np.zeros(N)\n",
    "\n",
    "    avg_rewards = np.zeros(d)\n",
    "\n",
    "    # Running average of last 100 rewards\n",
    "    running_avg_rewards = np.zeros(N)\n",
    "\n",
    "    # Array for ploting number of times each ad was ran for a given rotation\n",
    "    bandit_selection = np.zeros((d, N))    \n",
    "    for i in range(m):\n",
    "\n",
    "        flags_pos = 0\n",
    "        eps = 1 - (i*0.01)\n",
    "        if eps < 0.6:\n",
    "            eps = 0.6\n",
    "\n",
    "        if avg_rewards.sum() == 0:\n",
    "            p = np.random.choice(d) / 10\n",
    "        elif np.random.random() < eps:\n",
    "            p = np.random.choice(d) / 10\n",
    "        else:\n",
    "            u = np.array(avg_rewards).argsort()[-5:][::-1]\n",
    "            p = np.random.choice(u) / 10\n",
    "\n",
    "        flag = 0\n",
    "#         p = random.uniform(0, 1)\n",
    "    #     print(p)\n",
    "    #     p = 1.0\n",
    "        r = np.random.binomial(len(cells),p)\n",
    "        if 1:\n",
    "            \n",
    "            df_c = df.copy()\n",
    "            comb = random_combination(cells, r)\n",
    "\n",
    "            for cell in comb:\n",
    "                df_c[cell[1]][cell[0]] = \"NULL\"\n",
    "\n",
    "            df_repair = naive(df_c, constraints)\n",
    "            is_repair_with = df_repair[col_repair][i_repair] == 'jefferson'\n",
    "\n",
    "            df_c[col_shap][i_shap] = \"NULL\"\n",
    "\n",
    "            df_repair = naive(df_c, constraints)\n",
    "            is_repair_without = df_repair[col_repair][i_repair] == 'jefferson'\n",
    "\n",
    "            a = int(is_repair_with) - int(is_repair_without)\n",
    "            shap += a\n",
    "\n",
    "            arm = int(p*10)\n",
    "#             print(arm)\n",
    "            ads_selected.append(arm)\n",
    "            reward = flags_pos\n",
    "    #         numbers_of_selections[arm] = numbers_of_selections[arm] + 1\n",
    "\n",
    "\n",
    "            num_ad_selected[arm] = num_ad_selected[arm] + 1\n",
    "            num_ad_win[arm] = num_ad_win[arm] + reward\n",
    "            avg_rewards[arm] = num_ad_win[arm] / num_ad_selected[arm]\n",
    "            total_reward = total_reward + reward\n",
    "\n",
    "\n",
    "            # Update the Running average\n",
    "            rewards[i] = reward\n",
    "            running_avg_rewards[i] = rewards[np.arange(i-499,i+1)].mean()\n",
    "\n",
    "            if i > 0:\n",
    "                for j in range(0, d):\n",
    "                    bandit_selection[j][i] = bandit_selection[j][i-1]\n",
    "                bandit_selection[arm][i] = bandit_selection[arm][i-1] + 1  \n",
    "\n",
    "end = time.time()\n",
    "print(\"Time took for repeat {} is: \".format(m) + str(end - start))"
   ]
  },
  {
   "cell_type": "code",
   "execution_count": 208,
   "metadata": {},
   "outputs": [],
   "source": [
    "results= {}\n",
    "for cell in cells:\n",
    "    results[str(cell)] = 0\n",
    "for j in range(m):\n",
    "    for cell in cells:\n",
    "        try:\n",
    "            if not memo_dict[e][str(cell)][\"is_fix_without_cell\"][j] and memo_dict[e][str(cell)][\"is_fix_with_cell\"][j]:\n",
    "                results[str(cell)] += 1\n",
    "        except:\n",
    "            pass"
   ]
  },
  {
   "cell_type": "code",
   "execution_count": 210,
   "metadata": {},
   "outputs": [
    {
     "data": {
      "text/plain": [
       "0.25199999999999995"
      ]
     },
     "execution_count": 210,
     "metadata": {},
     "output_type": "execute_result"
    }
   ],
   "source": [
    "results\n",
    "calc_shap = {k: v/100 for k, v in sorted(results.items(), key=lambda item: -item[1])[:7]}\n",
    "# print(results.values())\n",
    "sum([abs(results[k]/100-real_shap[str(k)]) for k in calc_shap.keys()])"
   ]
  },
  {
   "cell_type": "code",
   "execution_count": 212,
   "metadata": {},
   "outputs": [
    {
     "data": {
      "text/plain": [
       "{\"(40, 'City')\": 0.6,\n",
       " \"(1, 'County')\": 0.15,\n",
       " \"(2, 'City')\": 0.15,\n",
       " \"(1, 'City')\": 0.13,\n",
       " \"(2, 'County')\": 0.08,\n",
       " \"(42, 'County')\": 0.04,\n",
       " \"(41, 'City')\": 0.02,\n",
       " \"(42, 'City')\": 0.02,\n",
       " \"(41, 'County')\": 0.01,\n",
       " \"(0, 'City')\": 0.0,\n",
       " \"(0, 'County')\": 0.0,\n",
       " \"(13, 'City')\": 0.0,\n",
       " \"(13, 'County')\": 0.0,\n",
       " \"(27, 'City')\": 0.0,\n",
       " \"(27, 'County')\": 0.0,\n",
       " \"(63, 'City')\": 0.0,\n",
       " \"(63, 'County')\": 0.0}"
      ]
     },
     "execution_count": 212,
     "metadata": {},
     "output_type": "execute_result"
    }
   ],
   "source": [
    "{k: v/100 for k, v in sorted(results.items(), key=lambda item: -item[1])}"
   ]
  },
  {
   "cell_type": "code",
   "execution_count": null,
   "metadata": {},
   "outputs": [],
   "source": []
  },
  {
   "cell_type": "code",
   "execution_count": 299,
   "metadata": {},
   "outputs": [],
   "source": [
    "N = 100 # 10000\n",
    "d = 11 # 10\n",
    "\n",
    "\n",
    "# Array of what ad was selected in a particular rotation\n",
    "ads_selected = []\n",
    "\n",
    "num_ad_selected = np.zeros(d)\n",
    "num_ad_win = np.zeros(d)\n",
    "\n",
    "# Total of rewards obtained\n",
    "total_reward = 0\n",
    "\n",
    "# array of reward values at each rotation\n",
    "rewards = np.zeros(N)\n",
    "\n",
    "avg_rewards = np.zeros(d)\n",
    "\n",
    "# Running average of last 100 rewards\n",
    "running_avg_rewards = np.zeros(N)\n",
    "\n",
    "# Array for ploting number of times each ad was ran for a given rotation\n",
    "bandit_selection = np.zeros((d, N))  "
   ]
  },
  {
   "cell_type": "code",
   "execution_count": 477,
   "metadata": {},
   "outputs": [],
   "source": [
    "N = 70 # 10000\n",
    "d = 11 # 10\n",
    "\n",
    "def calc_cell_shap(cell_shap, cell_repair, repeats=10, cols=None):\n",
    "    i_shap, col_shap = cell_shap[0], cell_shap[1]\n",
    "    i_repair, col_repair = cell_repair[0], cell_repair[1]\n",
    "\n",
    "    cells = list(itertools.product(df.index, df.columns if cols is None else cols))\n",
    "    cells.remove((i_repair, col_repair))\n",
    "    cells.remove((i_shap, col_shap))\n",
    "    \n",
    "    shap = 0\n",
    "    ads_selected = []\n",
    "\n",
    "    num_ad_selected = np.zeros(d)\n",
    "    num_ad_win = np.zeros(d)\n",
    "\n",
    "    # Total of rewards obtained\n",
    "    total_reward = 0\n",
    "\n",
    "    # array of reward values at each rotation\n",
    "    rewards = np.zeros(N)\n",
    "\n",
    "    avg_rewards = np.zeros(d)\n",
    "\n",
    "    # Running average of last 100 rewards\n",
    "    running_avg_rewards = np.zeros(N)\n",
    "\n",
    "    # Array for ploting number of times each ad was ran for a given rotation\n",
    "    bandit_selection = np.zeros((d, N))    \n",
    "    for i in range(repeats):\n",
    "\n",
    "        flags_pos = 0\n",
    "        eps = 1 - (i*0.01)\n",
    "        if eps < 0.6:\n",
    "            eps = 0.6\n",
    "\n",
    "        if avg_rewards.sum() == 0:\n",
    "            p = np.random.choice(d) / 10\n",
    "        elif np.random.random() < eps:\n",
    "            p = np.random.choice(d) / 10\n",
    "        else:\n",
    "            u = np.array(avg_rewards).argsort()[-5:][::-1]\n",
    "            p = np.random.choice(u) / 10\n",
    "\n",
    "        flag = 0\n",
    "        r = np.random.binomial(len(cells),p)\n",
    "            \n",
    "        df_c = df.copy()\n",
    "        comb = random_combination(cells, r)\n",
    "\n",
    "        for cell in comb:\n",
    "            df_c[cell[1]][cell[0]] = \"NULL\"\n",
    "\n",
    "        df_repair = naive(df_c, constraints)\n",
    "        is_repair_with = df_repair[col_repair][i_repair] == 'jefferson'\n",
    "\n",
    "        df_c[col_shap][i_shap] = \"NULL\"\n",
    "\n",
    "        df_repair = naive(df_c, constraints)\n",
    "        is_repair_without = df_repair[col_repair][i_repair] == 'jefferson'\n",
    "\n",
    "        a = int(is_repair_with) - int(is_repair_without)\n",
    "        shap += a\n",
    "        reward = a\n",
    "\n",
    "        arm = int(p*10)\n",
    "#         print(arm)\n",
    "        ads_selected.append(arm)\n",
    "\n",
    "\n",
    "        num_ad_selected[arm] = num_ad_selected[arm] + 1\n",
    "        num_ad_win[arm] = num_ad_win[arm] + reward\n",
    "        avg_rewards[arm] = num_ad_win[arm] / num_ad_selected[arm]\n",
    "        total_reward = total_reward + reward\n",
    "\n",
    "\n",
    "        # Update the Running average\n",
    "        rewards[i] = reward\n",
    "#         print(rewards)\n",
    "#     print(\"AVG\")\n",
    "#     print(avg_rewards)\n",
    "\n",
    "    \n",
    "    return shap "
   ]
  },
  {
   "cell_type": "code",
   "execution_count": 478,
   "metadata": {},
   "outputs": [],
   "source": [
    "df = pd.read_csv('./testdata/hospital_300.csv')\n",
    "# constraints_path = './testdata/hospital_constraints.txt'\n",
    "\n",
    "cols = list(df.columns)\n",
    "# cols.remove(\"Rank\")\n",
    "# cols.remove(\"Year\")"
   ]
  },
  {
   "cell_type": "code",
   "execution_count": 479,
   "metadata": {},
   "outputs": [],
   "source": [
    "# time.time() - start"
   ]
  },
  {
   "cell_type": "code",
   "execution_count": 480,
   "metadata": {},
   "outputs": [
    {
     "name": "stdout",
     "output_type": "stream",
     "text": [
      "3000.5879497528076\n"
     ]
    }
   ],
   "source": [
    "# cells = list(itertools.product(df.index, df.columns))\n",
    "cell_repair = (40, \"County\")\n",
    "column = cell_repair[1]\n",
    "# cells.remove(cell_repair)\n",
    "df_copy = df.copy()\n",
    "df_repair = naive(df_copy, [1,2,3])\n",
    "\n",
    "relevant_rows = df_repair[df_repair[column]==df_repair[column][cell_repair[0]]]\n",
    "relevant_attributes = [\"City\", \"County\"]\n",
    "\n",
    "cells = list(itertools.product(relevant_rows.index, relevant_attributes))\n",
    "\n",
    "\n",
    "cells.remove(cell_repair)\n",
    "\n",
    "# cells = [(42, 'City'), (42, 'County')]\n",
    "# print(cells)\n",
    "\n",
    "\n",
    "results = {}\n",
    "start = time.time()\n",
    "for cell in cells:\n",
    "    results[cell] = calc_cell_shap(cell, cell_repair, repeats=70, cols=cols)\n",
    "print(time.time() - start)"
   ]
  },
  {
   "cell_type": "code",
   "execution_count": 481,
   "metadata": {},
   "outputs": [
    {
     "data": {
      "text/plain": [
       "array([0., 0., 0., 0., 0., 0., 0., 0., 0., 0., 0., 0., 0., 0., 0., 0., 0.,\n",
       "       0., 0., 0., 0., 0., 0., 0., 0., 0., 0., 0., 0., 0., 0., 0., 0., 0.,\n",
       "       0., 0., 0., 0., 0., 0., 0., 0., 0., 0., 0., 0., 0., 0., 0., 0., 0.,\n",
       "       0., 0., 0., 0., 0., 0., 0., 0., 0., 0., 0., 0., 0., 0., 0., 0., 0.,\n",
       "       0., 0., 0., 0., 0., 0., 0., 0., 0., 0., 0., 0., 0., 0., 0., 0., 0.,\n",
       "       0., 0., 0., 0., 0., 0., 0., 0., 0., 0., 0., 0., 0., 0., 0.])"
      ]
     },
     "execution_count": 481,
     "metadata": {},
     "output_type": "execute_result"
    }
   ],
   "source": [
    "rewards\n",
    "# results\n",
    "# cells"
   ]
  },
  {
   "cell_type": "code",
   "execution_count": 430,
   "metadata": {},
   "outputs": [
    {
     "ename": "KeyError",
     "evalue": "\"(141, 'City')\"",
     "output_type": "error",
     "traceback": [
      "\u001b[1;31m---------------------------------------------------------------------------\u001b[0m",
      "\u001b[1;31mKeyError\u001b[0m                                  Traceback (most recent call last)",
      "\u001b[1;32m<ipython-input-430-373d3f359961>\u001b[0m in \u001b[0;36m<module>\u001b[1;34m\u001b[0m\n\u001b[0;32m      2\u001b[0m \u001b[0mcalc_shap\u001b[0m \u001b[1;33m=\u001b[0m \u001b[1;33m{\u001b[0m\u001b[0mk\u001b[0m\u001b[1;33m:\u001b[0m \u001b[0mv\u001b[0m\u001b[1;33m/\u001b[0m\u001b[1;36m70\u001b[0m \u001b[1;32mfor\u001b[0m \u001b[0mk\u001b[0m\u001b[1;33m,\u001b[0m \u001b[0mv\u001b[0m \u001b[1;32min\u001b[0m \u001b[0msorted\u001b[0m\u001b[1;33m(\u001b[0m\u001b[0mresults\u001b[0m\u001b[1;33m.\u001b[0m\u001b[0mitems\u001b[0m\u001b[1;33m(\u001b[0m\u001b[1;33m)\u001b[0m\u001b[1;33m,\u001b[0m \u001b[0mkey\u001b[0m\u001b[1;33m=\u001b[0m\u001b[1;32mlambda\u001b[0m \u001b[0mitem\u001b[0m\u001b[1;33m:\u001b[0m \u001b[1;33m-\u001b[0m\u001b[0mitem\u001b[0m\u001b[1;33m[\u001b[0m\u001b[1;36m1\u001b[0m\u001b[1;33m]\u001b[0m\u001b[1;33m)\u001b[0m\u001b[1;33m[\u001b[0m\u001b[1;33m:\u001b[0m\u001b[1;36m20\u001b[0m\u001b[1;33m]\u001b[0m\u001b[1;33m}\u001b[0m\u001b[1;33m\u001b[0m\u001b[1;33m\u001b[0m\u001b[0m\n\u001b[0;32m      3\u001b[0m \u001b[1;31m# print(results.values())\u001b[0m\u001b[1;33m\u001b[0m\u001b[1;33m\u001b[0m\u001b[1;33m\u001b[0m\u001b[0m\n\u001b[1;32m----> 4\u001b[1;33m \u001b[0msum\u001b[0m\u001b[1;33m(\u001b[0m\u001b[1;33m[\u001b[0m\u001b[0mabs\u001b[0m\u001b[1;33m(\u001b[0m\u001b[0mresults\u001b[0m\u001b[1;33m[\u001b[0m\u001b[0mk\u001b[0m\u001b[1;33m]\u001b[0m\u001b[1;33m/\u001b[0m\u001b[1;36m70\u001b[0m\u001b[1;33m-\u001b[0m\u001b[0mreal_shap\u001b[0m\u001b[1;33m[\u001b[0m\u001b[0mstr\u001b[0m\u001b[1;33m(\u001b[0m\u001b[0mk\u001b[0m\u001b[1;33m)\u001b[0m\u001b[1;33m]\u001b[0m\u001b[1;33m)\u001b[0m \u001b[1;32mfor\u001b[0m \u001b[0mk\u001b[0m \u001b[1;32min\u001b[0m \u001b[0mcalc_shap\u001b[0m\u001b[1;33m.\u001b[0m\u001b[0mkeys\u001b[0m\u001b[1;33m(\u001b[0m\u001b[1;33m)\u001b[0m\u001b[1;33m]\u001b[0m\u001b[1;33m)\u001b[0m\u001b[1;33m\u001b[0m\u001b[1;33m\u001b[0m\u001b[0m\n\u001b[0m",
      "\u001b[1;32m<ipython-input-430-373d3f359961>\u001b[0m in \u001b[0;36m<listcomp>\u001b[1;34m(.0)\u001b[0m\n\u001b[0;32m      2\u001b[0m \u001b[0mcalc_shap\u001b[0m \u001b[1;33m=\u001b[0m \u001b[1;33m{\u001b[0m\u001b[0mk\u001b[0m\u001b[1;33m:\u001b[0m \u001b[0mv\u001b[0m\u001b[1;33m/\u001b[0m\u001b[1;36m70\u001b[0m \u001b[1;32mfor\u001b[0m \u001b[0mk\u001b[0m\u001b[1;33m,\u001b[0m \u001b[0mv\u001b[0m \u001b[1;32min\u001b[0m \u001b[0msorted\u001b[0m\u001b[1;33m(\u001b[0m\u001b[0mresults\u001b[0m\u001b[1;33m.\u001b[0m\u001b[0mitems\u001b[0m\u001b[1;33m(\u001b[0m\u001b[1;33m)\u001b[0m\u001b[1;33m,\u001b[0m \u001b[0mkey\u001b[0m\u001b[1;33m=\u001b[0m\u001b[1;32mlambda\u001b[0m \u001b[0mitem\u001b[0m\u001b[1;33m:\u001b[0m \u001b[1;33m-\u001b[0m\u001b[0mitem\u001b[0m\u001b[1;33m[\u001b[0m\u001b[1;36m1\u001b[0m\u001b[1;33m]\u001b[0m\u001b[1;33m)\u001b[0m\u001b[1;33m[\u001b[0m\u001b[1;33m:\u001b[0m\u001b[1;36m20\u001b[0m\u001b[1;33m]\u001b[0m\u001b[1;33m}\u001b[0m\u001b[1;33m\u001b[0m\u001b[1;33m\u001b[0m\u001b[0m\n\u001b[0;32m      3\u001b[0m \u001b[1;31m# print(results.values())\u001b[0m\u001b[1;33m\u001b[0m\u001b[1;33m\u001b[0m\u001b[1;33m\u001b[0m\u001b[0m\n\u001b[1;32m----> 4\u001b[1;33m \u001b[0msum\u001b[0m\u001b[1;33m(\u001b[0m\u001b[1;33m[\u001b[0m\u001b[0mabs\u001b[0m\u001b[1;33m(\u001b[0m\u001b[0mresults\u001b[0m\u001b[1;33m[\u001b[0m\u001b[0mk\u001b[0m\u001b[1;33m]\u001b[0m\u001b[1;33m/\u001b[0m\u001b[1;36m70\u001b[0m\u001b[1;33m-\u001b[0m\u001b[0mreal_shap\u001b[0m\u001b[1;33m[\u001b[0m\u001b[0mstr\u001b[0m\u001b[1;33m(\u001b[0m\u001b[0mk\u001b[0m\u001b[1;33m)\u001b[0m\u001b[1;33m]\u001b[0m\u001b[1;33m)\u001b[0m \u001b[1;32mfor\u001b[0m \u001b[0mk\u001b[0m \u001b[1;32min\u001b[0m \u001b[0mcalc_shap\u001b[0m\u001b[1;33m.\u001b[0m\u001b[0mkeys\u001b[0m\u001b[1;33m(\u001b[0m\u001b[1;33m)\u001b[0m\u001b[1;33m]\u001b[0m\u001b[1;33m)\u001b[0m\u001b[1;33m\u001b[0m\u001b[1;33m\u001b[0m\u001b[0m\n\u001b[0m",
      "\u001b[1;31mKeyError\u001b[0m: \"(141, 'City')\""
     ]
    }
   ],
   "source": [
    "# results\n",
    "calc_shap = {k: v/70 for k, v in sorted(results.items(), key=lambda item: -item[1])[:20]}\n",
    "# print(results.values())\n",
    "sum([abs(results[k]/70-real_shap[str(k)]) for k in calc_shap.keys()])"
   ]
  },
  {
   "cell_type": "code",
   "execution_count": 431,
   "metadata": {},
   "outputs": [
    {
     "data": {
      "text/plain": [
       "{(40, 'City'): 0.52,\n",
       " (1, 'City'): 0.06,\n",
       " (141, 'City'): 0.04,\n",
       " (142, 'City'): 0.04,\n",
       " (241, 'City'): 0.04,\n",
       " (242, 'City'): 0.04,\n",
       " (2, 'City'): 0.02,\n",
       " (41, 'County'): 0.02,\n",
       " (101, 'County'): 0.02,\n",
       " (102, 'County'): 0.02,\n",
       " (141, 'County'): 0.02,\n",
       " (142, 'County'): 0.02,\n",
       " (201, 'County'): 0.02,\n",
       " (202, 'City'): 0.02,\n",
       " (241, 'County'): 0.02,\n",
       " (0, 'City'): 0.0,\n",
       " (0, 'County'): 0.0,\n",
       " (1, 'County'): 0.0,\n",
       " (2, 'County'): 0.0,\n",
       " (13, 'City'): 0.0,\n",
       " (13, 'County'): 0.0,\n",
       " (27, 'City'): 0.0,\n",
       " (27, 'County'): 0.0,\n",
       " (41, 'City'): 0.0,\n",
       " (42, 'City'): 0.0,\n",
       " (42, 'County'): 0.0,\n",
       " (63, 'City'): 0.0,\n",
       " (63, 'County'): 0.0,\n",
       " (100, 'City'): 0.0,\n",
       " (100, 'County'): 0.0,\n",
       " (101, 'City'): 0.0,\n",
       " (102, 'City'): 0.0,\n",
       " (113, 'City'): 0.0,\n",
       " (113, 'County'): 0.0,\n",
       " (127, 'City'): 0.0,\n",
       " (127, 'County'): 0.0,\n",
       " (140, 'County'): 0.0,\n",
       " (163, 'City'): 0.0,\n",
       " (163, 'County'): 0.0,\n",
       " (200, 'City'): 0.0,\n",
       " (200, 'County'): 0.0,\n",
       " (201, 'City'): 0.0,\n",
       " (202, 'County'): 0.0,\n",
       " (213, 'City'): 0.0,\n",
       " (213, 'County'): 0.0,\n",
       " (227, 'City'): 0.0,\n",
       " (227, 'County'): 0.0,\n",
       " (240, 'City'): 0.0,\n",
       " (240, 'County'): 0.0,\n",
       " (242, 'County'): 0.0,\n",
       " (263, 'City'): 0.0,\n",
       " (263, 'County'): 0.0,\n",
       " (140, 'City'): -0.02}"
      ]
     },
     "execution_count": 431,
     "metadata": {},
     "output_type": "execute_result"
    }
   ],
   "source": [
    "{k: v/70 for k, v in sorted(results.items(), key=lambda item: -item[1])}"
   ]
  },
  {
   "cell_type": "code",
   "execution_count": 127,
   "metadata": {},
   "outputs": [],
   "source": [
    "real_shap = {\n",
    " \"(40, 'City')\": 0.538,\n",
    " \"(1, 'County')\": 0.09,\n",
    " \"(1, 'City')\": 0.09,\n",
    " \"(2, 'County')\": 0.09,\n",
    " \"(2, 'City')\": 0.09,\n",
    " \"(41, 'County')\": 0.026,\n",
    " \"(41, 'City')\": 0.026,\n",
    " \"(42, 'County')\": 0.026,\n",
    " \"(42, 'City')\": 0.026,\n",
    "}"
   ]
  },
  {
   "cell_type": "code",
   "execution_count": 23,
   "metadata": {},
   "outputs": [
    {
     "data": {
      "image/png": "[encoded data removed]",
      "text/plain": [
       "<Figure size 576x288 with 1 Axes>"
      ]
     },
     "metadata": {
      "needs_background": "light"
     },
     "output_type": "display_data"
    }
   ],
   "source": [
    "import numpy as np\n",
    "labels = [\"2.1K\", \"4.2K\", \"6.3K\"]\n",
    "Monte = [28280/60 ,97230/60, 218190/60]\n",
    "MC_prune = [340/60 ,1455/60 ,3556/60]\n",
    "MC_prune_pick_p = [270/60, 1264/60, 3001/60]\n",
    "MC_prune_reuse = [230/60, 1214/60, 2041/60]\n",
    "All_Opt = [214/60, 518/60, 1288/60]\n",
    "\n",
    "x = np.arange(len(labels))  # the label locations\n",
    "width = 0.18  # the width of the bars\n",
    "\n",
    "fig, ax = plt.subplots(figsize=(8,4))\n",
    "rects1 = ax.bar(x - 2* width, Monte, width, label='Monte Carlo (MC)')\n",
    "rects2 = ax.bar(x - width, MC_prune, width, label='MC+pruning')\n",
    "rects3 = ax.bar(x, MC_prune_pick_p, width, label='MC+pruning+MAB')\n",
    "rects4 = ax.bar(x + width, MC_prune_reuse, width, label='MC+pruning+sample reuse')\n",
    "rects5 = ax.bar(x + 2* width, All_Opt, width, label='MC+pruning+MAB+sample reuse')\n",
    "\n",
    "# Add some text for labels, title and custom x-axis tick labels, etc.\n",
    "ax.set_xticks(x)\n",
    "plt.yscale(\"log\")\n",
    "plt.xlabel('Table Size', size=22)\n",
    "ax.set_ylabel('Runtime (Minutes)', size=22)\n",
    "ax.set_xticklabels(labels)\n",
    "ax.legend(prop={'size': 16})\n",
    "ax.tick_params(axis='y', which='major', labelsize=22)\n",
    "ax.tick_params(axis='x', which='major', labelsize=22)\n",
    "\n",
    "j = 0\n",
    "h = [1, 1, 1]\n",
    "for rect in rects2:\n",
    "    height = rect.get_height()\n",
    "    plt.text(rect.get_x() + rect.get_width()/2.0, 3.5, 'x{}'.format(h[j]), ha='center', rotation=90, size=20)\n",
    "    j += 1\n",
    "\n",
    "j = 0\n",
    "h = [1.2, 1.2, 1.3]\n",
    "for rect in rects3:\n",
    "    height = rect.get_height()\n",
    "    plt.text(rect.get_x() + rect.get_width()/2.0, 3.5, 'x{}'.format(h[j]), ha='center', rotation=90, size=20)\n",
    "    j += 1\n",
    "\n",
    "    \n",
    "j = 0\n",
    "h = [1.3, 1.3, 1.7]\n",
    "for rect in rects4:\n",
    "    height = rect.get_height()\n",
    "    plt.text(rect.get_x() + rect.get_width()/2.0, 3.5, 'x{}'.format(h[j]), ha='center', rotation=90, size=20)\n",
    "    j += 1\n",
    "    \n",
    "    \n",
    "j = 0\n",
    "h = [1.7, 2.8, 2.8]\n",
    "for rect in rects5:\n",
    "    height = rect.get_height()\n",
    "    plt.text(rect.get_x() + rect.get_width()/2, 3.5, 'x{}'.format(h[j]), ha='center', rotation=90, size=20)\n",
    "    j += 1\n",
    "    \n",
    "    \n",
    "fig.tight_layout()\n",
    "# plt.figure(figsize=(70,10))\n",
    "plt.show()"
   ]
  },
  {
   "cell_type": "code",
   "execution_count": 8,
   "metadata": {},
   "outputs": [
    {
     "ename": "ValueError",
     "evalue": "x and y must have same first dimension, but have shapes (4,) and (3,)",
     "output_type": "error",
     "traceback": [
      "\u001b[1;31m---------------------------------------------------------------------------\u001b[0m",
      "\u001b[1;31mValueError\u001b[0m                                Traceback (most recent call last)",
      "\u001b[1;32m<ipython-input-8-e2ce1d50095b>\u001b[0m in \u001b[0;36m<module>\u001b[1;34m\u001b[0m\n\u001b[0;32m      2\u001b[0m \u001b[1;32mimport\u001b[0m \u001b[0mmatplotlib\u001b[0m\u001b[1;33m.\u001b[0m\u001b[0mpyplot\u001b[0m \u001b[1;32mas\u001b[0m \u001b[0mplt\u001b[0m\u001b[1;33m\u001b[0m\u001b[1;33m\u001b[0m\u001b[0m\n\u001b[0;32m      3\u001b[0m \u001b[0mplt\u001b[0m\u001b[1;33m.\u001b[0m\u001b[0mplot\u001b[0m\u001b[1;33m(\u001b[0m\u001b[1;33m[\u001b[0m\u001b[1;36m220\u001b[0m\u001b[1;33m,\u001b[0m \u001b[1;36m2000\u001b[0m\u001b[1;33m,\u001b[0m \u001b[1;36m5500\u001b[0m\u001b[1;33m,\u001b[0m \u001b[1;36m12100\u001b[0m\u001b[1;33m,\u001b[0m \u001b[1;36m537262\u001b[0m\u001b[1;33m]\u001b[0m\u001b[1;33m,\u001b[0m \u001b[1;33m[\u001b[0m\u001b[1;36m0.7\u001b[0m\u001b[1;33m,\u001b[0m \u001b[1;36m5.5\u001b[0m\u001b[1;33m,\u001b[0m \u001b[1;36m14.4\u001b[0m\u001b[1;33m,\u001b[0m \u001b[1;36m31.5\u001b[0m\u001b[1;33m,\u001b[0m \u001b[1;36m233\u001b[0m\u001b[1;33m]\u001b[0m\u001b[1;33m,\u001b[0m \u001b[0mlabel\u001b[0m\u001b[1;33m=\u001b[0m\u001b[1;34m'Slovenian'\u001b[0m\u001b[1;33m)\u001b[0m\u001b[1;33m\u001b[0m\u001b[1;33m\u001b[0m\u001b[0m\n\u001b[1;32m----> 4\u001b[1;33m \u001b[0mplt\u001b[0m\u001b[1;33m.\u001b[0m\u001b[0mplot\u001b[0m\u001b[1;33m(\u001b[0m\u001b[1;33m[\u001b[0m\u001b[1;36m220\u001b[0m\u001b[1;33m,\u001b[0m \u001b[1;36m2000\u001b[0m\u001b[1;33m,\u001b[0m \u001b[1;36m5500\u001b[0m\u001b[1;33m,\u001b[0m \u001b[1;36m12100\u001b[0m\u001b[1;33m]\u001b[0m\u001b[1;33m,\u001b[0m \u001b[1;33m[\u001b[0m\u001b[1;36m43.5\u001b[0m\u001b[1;33m,\u001b[0m \u001b[1;36m1465\u001b[0m\u001b[1;33m,\u001b[0m \u001b[1;36m10535\u001b[0m\u001b[1;33m]\u001b[0m\u001b[1;33m,\u001b[0m \u001b[0mlabel\u001b[0m\u001b[1;33m=\u001b[0m\u001b[1;34m'random'\u001b[0m\u001b[1;33m)\u001b[0m\u001b[1;33m\u001b[0m\u001b[1;33m\u001b[0m\u001b[0m\n\u001b[0m\u001b[0;32m      5\u001b[0m \u001b[0mplt\u001b[0m\u001b[1;33m.\u001b[0m\u001b[0mxlabel\u001b[0m\u001b[1;33m(\u001b[0m\u001b[1;34m'Cells in Table'\u001b[0m\u001b[1;33m)\u001b[0m\u001b[1;33m\u001b[0m\u001b[1;33m\u001b[0m\u001b[0m\n\u001b[0;32m      6\u001b[0m \u001b[0mplt\u001b[0m\u001b[1;33m.\u001b[0m\u001b[0mylabel\u001b[0m\u001b[1;33m(\u001b[0m\u001b[1;34m'Running Time'\u001b[0m\u001b[1;33m)\u001b[0m\u001b[1;33m\u001b[0m\u001b[1;33m\u001b[0m\u001b[0m\n",
      "\u001b[1;32mc:\\users\\user\\documents\\gitprojects\\holoclean-provenance\\hc\\lib\\site-packages\\matplotlib\\pyplot.py\u001b[0m in \u001b[0;36mplot\u001b[1;34m(scalex, scaley, data, *args, **kwargs)\u001b[0m\n\u001b[0;32m   2787\u001b[0m     return gca().plot(\n\u001b[0;32m   2788\u001b[0m         *args, scalex=scalex, scaley=scaley, **({\"data\": data} if data\n\u001b[1;32m-> 2789\u001b[1;33m         is not None else {}), **kwargs)\n\u001b[0m\u001b[0;32m   2790\u001b[0m \u001b[1;33m\u001b[0m\u001b[0m\n\u001b[0;32m   2791\u001b[0m \u001b[1;33m\u001b[0m\u001b[0m\n",
      "\u001b[1;32mc:\\users\\user\\documents\\gitprojects\\holoclean-provenance\\hc\\lib\\site-packages\\matplotlib\\axes\\_axes.py\u001b[0m in \u001b[0;36mplot\u001b[1;34m(self, scalex, scaley, data, *args, **kwargs)\u001b[0m\n\u001b[0;32m   1663\u001b[0m         \"\"\"\n\u001b[0;32m   1664\u001b[0m         \u001b[0mkwargs\u001b[0m \u001b[1;33m=\u001b[0m \u001b[0mcbook\u001b[0m\u001b[1;33m.\u001b[0m\u001b[0mnormalize_kwargs\u001b[0m\u001b[1;33m(\u001b[0m\u001b[0mkwargs\u001b[0m\u001b[1;33m,\u001b[0m \u001b[0mmlines\u001b[0m\u001b[1;33m.\u001b[0m\u001b[0mLine2D\u001b[0m\u001b[1;33m.\u001b[0m\u001b[0m_alias_map\u001b[0m\u001b[1;33m)\u001b[0m\u001b[1;33m\u001b[0m\u001b[1;33m\u001b[0m\u001b[0m\n\u001b[1;32m-> 1665\u001b[1;33m         \u001b[0mlines\u001b[0m \u001b[1;33m=\u001b[0m \u001b[1;33m[\u001b[0m\u001b[1;33m*\u001b[0m\u001b[0mself\u001b[0m\u001b[1;33m.\u001b[0m\u001b[0m_get_lines\u001b[0m\u001b[1;33m(\u001b[0m\u001b[1;33m*\u001b[0m\u001b[0margs\u001b[0m\u001b[1;33m,\u001b[0m \u001b[0mdata\u001b[0m\u001b[1;33m=\u001b[0m\u001b[0mdata\u001b[0m\u001b[1;33m,\u001b[0m \u001b[1;33m**\u001b[0m\u001b[0mkwargs\u001b[0m\u001b[1;33m)\u001b[0m\u001b[1;33m]\u001b[0m\u001b[1;33m\u001b[0m\u001b[1;33m\u001b[0m\u001b[0m\n\u001b[0m\u001b[0;32m   1666\u001b[0m         \u001b[1;32mfor\u001b[0m \u001b[0mline\u001b[0m \u001b[1;32min\u001b[0m \u001b[0mlines\u001b[0m\u001b[1;33m:\u001b[0m\u001b[1;33m\u001b[0m\u001b[1;33m\u001b[0m\u001b[0m\n\u001b[0;32m   1667\u001b[0m             \u001b[0mself\u001b[0m\u001b[1;33m.\u001b[0m\u001b[0madd_line\u001b[0m\u001b[1;33m(\u001b[0m\u001b[0mline\u001b[0m\u001b[1;33m)\u001b[0m\u001b[1;33m\u001b[0m\u001b[1;33m\u001b[0m\u001b[0m\n",
      "\u001b[1;32mc:\\users\\user\\documents\\gitprojects\\holoclean-provenance\\hc\\lib\\site-packages\\matplotlib\\axes\\_base.py\u001b[0m in \u001b[0;36m__call__\u001b[1;34m(self, *args, **kwargs)\u001b[0m\n\u001b[0;32m    223\u001b[0m                 \u001b[0mthis\u001b[0m \u001b[1;33m+=\u001b[0m \u001b[0margs\u001b[0m\u001b[1;33m[\u001b[0m\u001b[1;36m0\u001b[0m\u001b[1;33m]\u001b[0m\u001b[1;33m,\u001b[0m\u001b[1;33m\u001b[0m\u001b[1;33m\u001b[0m\u001b[0m\n\u001b[0;32m    224\u001b[0m                 \u001b[0margs\u001b[0m \u001b[1;33m=\u001b[0m \u001b[0margs\u001b[0m\u001b[1;33m[\u001b[0m\u001b[1;36m1\u001b[0m\u001b[1;33m:\u001b[0m\u001b[1;33m]\u001b[0m\u001b[1;33m\u001b[0m\u001b[1;33m\u001b[0m\u001b[0m\n\u001b[1;32m--> 225\u001b[1;33m             \u001b[1;32myield\u001b[0m \u001b[1;32mfrom\u001b[0m \u001b[0mself\u001b[0m\u001b[1;33m.\u001b[0m\u001b[0m_plot_args\u001b[0m\u001b[1;33m(\u001b[0m\u001b[0mthis\u001b[0m\u001b[1;33m,\u001b[0m \u001b[0mkwargs\u001b[0m\u001b[1;33m)\u001b[0m\u001b[1;33m\u001b[0m\u001b[1;33m\u001b[0m\u001b[0m\n\u001b[0m\u001b[0;32m    226\u001b[0m \u001b[1;33m\u001b[0m\u001b[0m\n\u001b[0;32m    227\u001b[0m     \u001b[1;32mdef\u001b[0m \u001b[0mget_next_color\u001b[0m\u001b[1;33m(\u001b[0m\u001b[0mself\u001b[0m\u001b[1;33m)\u001b[0m\u001b[1;33m:\u001b[0m\u001b[1;33m\u001b[0m\u001b[1;33m\u001b[0m\u001b[0m\n",
      "\u001b[1;32mc:\\users\\user\\documents\\gitprojects\\holoclean-provenance\\hc\\lib\\site-packages\\matplotlib\\axes\\_base.py\u001b[0m in \u001b[0;36m_plot_args\u001b[1;34m(self, tup, kwargs)\u001b[0m\n\u001b[0;32m    389\u001b[0m             \u001b[0mx\u001b[0m\u001b[1;33m,\u001b[0m \u001b[0my\u001b[0m \u001b[1;33m=\u001b[0m \u001b[0mindex_of\u001b[0m\u001b[1;33m(\u001b[0m\u001b[0mtup\u001b[0m\u001b[1;33m[\u001b[0m\u001b[1;33m-\u001b[0m\u001b[1;36m1\u001b[0m\u001b[1;33m]\u001b[0m\u001b[1;33m)\u001b[0m\u001b[1;33m\u001b[0m\u001b[1;33m\u001b[0m\u001b[0m\n\u001b[0;32m    390\u001b[0m \u001b[1;33m\u001b[0m\u001b[0m\n\u001b[1;32m--> 391\u001b[1;33m         \u001b[0mx\u001b[0m\u001b[1;33m,\u001b[0m \u001b[0my\u001b[0m \u001b[1;33m=\u001b[0m \u001b[0mself\u001b[0m\u001b[1;33m.\u001b[0m\u001b[0m_xy_from_xy\u001b[0m\u001b[1;33m(\u001b[0m\u001b[0mx\u001b[0m\u001b[1;33m,\u001b[0m \u001b[0my\u001b[0m\u001b[1;33m)\u001b[0m\u001b[1;33m\u001b[0m\u001b[1;33m\u001b[0m\u001b[0m\n\u001b[0m\u001b[0;32m    392\u001b[0m \u001b[1;33m\u001b[0m\u001b[0m\n\u001b[0;32m    393\u001b[0m         \u001b[1;32mif\u001b[0m \u001b[0mself\u001b[0m\u001b[1;33m.\u001b[0m\u001b[0mcommand\u001b[0m \u001b[1;33m==\u001b[0m \u001b[1;34m'plot'\u001b[0m\u001b[1;33m:\u001b[0m\u001b[1;33m\u001b[0m\u001b[1;33m\u001b[0m\u001b[0m\n",
      "\u001b[1;32mc:\\users\\user\\documents\\gitprojects\\holoclean-provenance\\hc\\lib\\site-packages\\matplotlib\\axes\\_base.py\u001b[0m in \u001b[0;36m_xy_from_xy\u001b[1;34m(self, x, y)\u001b[0m\n\u001b[0;32m    268\u001b[0m         \u001b[1;32mif\u001b[0m \u001b[0mx\u001b[0m\u001b[1;33m.\u001b[0m\u001b[0mshape\u001b[0m\u001b[1;33m[\u001b[0m\u001b[1;36m0\u001b[0m\u001b[1;33m]\u001b[0m \u001b[1;33m!=\u001b[0m \u001b[0my\u001b[0m\u001b[1;33m.\u001b[0m\u001b[0mshape\u001b[0m\u001b[1;33m[\u001b[0m\u001b[1;36m0\u001b[0m\u001b[1;33m]\u001b[0m\u001b[1;33m:\u001b[0m\u001b[1;33m\u001b[0m\u001b[1;33m\u001b[0m\u001b[0m\n\u001b[0;32m    269\u001b[0m             raise ValueError(\"x and y must have same first dimension, but \"\n\u001b[1;32m--> 270\u001b[1;33m                              \"have shapes {} and {}\".format(x.shape, y.shape))\n\u001b[0m\u001b[0;32m    271\u001b[0m         \u001b[1;32mif\u001b[0m \u001b[0mx\u001b[0m\u001b[1;33m.\u001b[0m\u001b[0mndim\u001b[0m \u001b[1;33m>\u001b[0m \u001b[1;36m2\u001b[0m \u001b[1;32mor\u001b[0m \u001b[0my\u001b[0m\u001b[1;33m.\u001b[0m\u001b[0mndim\u001b[0m \u001b[1;33m>\u001b[0m \u001b[1;36m2\u001b[0m\u001b[1;33m:\u001b[0m\u001b[1;33m\u001b[0m\u001b[1;33m\u001b[0m\u001b[0m\n\u001b[0;32m    272\u001b[0m             raise ValueError(\"x and y can be no greater than 2-D, but have \"\n",
      "\u001b[1;31mValueError\u001b[0m: x and y must have same first dimension, but have shapes (4,) and (3,)"
     ]
    },
    {
     "data": {
      "image/png": "[encoded data removed]",
      "text/plain": [
       "<Figure size 432x288 with 1 Axes>"
      ]
     },
     "metadata": {
      "needs_background": "light"
     },
     "output_type": "display_data"
    }
   ],
   "source": [
    "%matplotlib inline\n",
    "import matplotlib.pyplot as plt\n",
    "plt.plot([220, 2000, 5500, 12100, 537262], [0.7, 5.5, 14.4, 31.5, 233], label='Slovenian')\n",
    "plt.plot([220, 2000, 5500, 12100], [43.5, 1465, 10535], label='random')\n",
    "plt.xlabel('Cells in Table')\n",
    "plt.ylabel('Running Time')\n",
    "plt.legend()\n",
    "plt.show()"
   ]
  },
  {
   "cell_type": "code",
   "execution_count": 36,
   "metadata": {},
   "outputs": [
    {
     "name": "stdout",
     "output_type": "stream",
     "text": [
      "2009.6521964073181\n"
     ]
    }
   ],
   "source": [
    "print(time.time() - start)"
   ]
  },
  {
   "cell_type": "code",
   "execution_count": null,
   "metadata": {},
   "outputs": [],
   "source": []
  },
  {
   "cell_type": "code",
   "execution_count": 38,
   "metadata": {},
   "outputs": [
    {
     "data": {
      "text/plain": [
       "1600614627.1170356"
      ]
     },
     "execution_count": 38,
     "metadata": {},
     "output_type": "execute_result"
    }
   ],
   "source": [
    "time.time()"
   ]
  },
  {
   "cell_type": "code",
   "execution_count": 39,
   "metadata": {},
   "outputs": [
    {
     "name": "stdout",
     "output_type": "stream",
     "text": [
      "2027.947919845581\n"
     ]
    }
   ],
   "source": [
    "print(time.time() - start)"
   ]
  },
  {
   "cell_type": "code",
   "execution_count": null,
   "metadata": {},
   "outputs": [],
   "source": []
  }
 ],
 "metadata": {
  "kernelspec": {
   "display_name": "Python 3",
   "language": "python",
   "name": "python3"
  },
  "language_info": {
   "codemirror_mode": {
    "name": "ipython",
    "version": 3
   },
   "file_extension": ".py",
   "mimetype": "text/x-python",
   "name": "python",
   "nbconvert_exporter": "python",
   "pygments_lexer": "ipython3",
   "version": "3.6.7"
  }
 },
 "nbformat": 4,
 "nbformat_minor": 2
}
