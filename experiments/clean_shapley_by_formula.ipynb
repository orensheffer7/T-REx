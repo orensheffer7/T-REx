{
 "cells": [
  {
   "cell_type": "code",
   "execution_count": 2,
   "metadata": {},
   "outputs": [],
   "source": [
    "%matplotlib inline\n",
    "import pandas as pd\n",
    "import collections\n",
    "import itertools\n",
    "import math\n",
    "import random\n",
    "import warnings\n",
    "import time\n",
    "warnings.filterwarnings('ignore')"
   ]
  },
  {
   "cell_type": "code",
   "execution_count": 3,
   "metadata": {},
   "outputs": [
    {
     "ename": "AssertionError",
     "evalue": "4 columns passed, passed data had 3 columns",
     "output_type": "error",
     "traceback": [
      "\u001b[1;31m---------------------------------------------------------------------------\u001b[0m",
      "\u001b[1;31mAssertionError\u001b[0m                            Traceback (most recent call last)",
      "\u001b[1;32m<ipython-input-3-76111e6be231>\u001b[0m in \u001b[0;36m<module>\u001b[1;34m\u001b[0m\n\u001b[0;32m      7\u001b[0m ]\n\u001b[0;32m      8\u001b[0m \u001b[1;33m\u001b[0m\u001b[0m\n\u001b[1;32m----> 9\u001b[1;33m \u001b[0mdf\u001b[0m \u001b[1;33m=\u001b[0m \u001b[0mpd\u001b[0m\u001b[1;33m.\u001b[0m\u001b[0mDataFrame\u001b[0m\u001b[1;33m(\u001b[0m\u001b[0mdata\u001b[0m\u001b[1;33m,\u001b[0m \u001b[0mcolumns\u001b[0m\u001b[1;33m=\u001b[0m\u001b[1;33m[\u001b[0m\u001b[1;34m\"Team\"\u001b[0m\u001b[1;33m,\u001b[0m \u001b[1;34m\"League\"\u001b[0m\u001b[1;33m,\u001b[0m \u001b[1;34m\"City\"\u001b[0m\u001b[1;33m,\u001b[0m \u001b[1;34m\"Country\"\u001b[0m\u001b[1;33m]\u001b[0m\u001b[1;33m)\u001b[0m\u001b[1;33m\u001b[0m\u001b[1;33m\u001b[0m\u001b[0m\n\u001b[0m",
      "\u001b[1;32mc:\\users\\user\\documents\\gitprojects\\holoclean-provenance\\hc\\lib\\site-packages\\pandas\\core\\frame.py\u001b[0m in \u001b[0;36m__init__\u001b[1;34m(self, data, index, columns, dtype, copy)\u001b[0m\n\u001b[0;32m    433\u001b[0m                     \u001b[1;32mif\u001b[0m \u001b[0mis_named_tuple\u001b[0m\u001b[1;33m(\u001b[0m\u001b[0mdata\u001b[0m\u001b[1;33m[\u001b[0m\u001b[1;36m0\u001b[0m\u001b[1;33m]\u001b[0m\u001b[1;33m)\u001b[0m \u001b[1;32mand\u001b[0m \u001b[0mcolumns\u001b[0m \u001b[1;32mis\u001b[0m \u001b[1;32mNone\u001b[0m\u001b[1;33m:\u001b[0m\u001b[1;33m\u001b[0m\u001b[1;33m\u001b[0m\u001b[0m\n\u001b[0;32m    434\u001b[0m                         \u001b[0mcolumns\u001b[0m \u001b[1;33m=\u001b[0m \u001b[0mdata\u001b[0m\u001b[1;33m[\u001b[0m\u001b[1;36m0\u001b[0m\u001b[1;33m]\u001b[0m\u001b[1;33m.\u001b[0m\u001b[0m_fields\u001b[0m\u001b[1;33m\u001b[0m\u001b[1;33m\u001b[0m\u001b[0m\n\u001b[1;32m--> 435\u001b[1;33m                     \u001b[0marrays\u001b[0m\u001b[1;33m,\u001b[0m \u001b[0mcolumns\u001b[0m \u001b[1;33m=\u001b[0m \u001b[0mto_arrays\u001b[0m\u001b[1;33m(\u001b[0m\u001b[0mdata\u001b[0m\u001b[1;33m,\u001b[0m \u001b[0mcolumns\u001b[0m\u001b[1;33m,\u001b[0m \u001b[0mdtype\u001b[0m\u001b[1;33m=\u001b[0m\u001b[0mdtype\u001b[0m\u001b[1;33m)\u001b[0m\u001b[1;33m\u001b[0m\u001b[1;33m\u001b[0m\u001b[0m\n\u001b[0m\u001b[0;32m    436\u001b[0m                     \u001b[0mcolumns\u001b[0m \u001b[1;33m=\u001b[0m \u001b[0mensure_index\u001b[0m\u001b[1;33m(\u001b[0m\u001b[0mcolumns\u001b[0m\u001b[1;33m)\u001b[0m\u001b[1;33m\u001b[0m\u001b[1;33m\u001b[0m\u001b[0m\n\u001b[0;32m    437\u001b[0m \u001b[1;33m\u001b[0m\u001b[0m\n",
      "\u001b[1;32mc:\\users\\user\\documents\\gitprojects\\holoclean-provenance\\hc\\lib\\site-packages\\pandas\\core\\internals\\construction.py\u001b[0m in \u001b[0;36mto_arrays\u001b[1;34m(data, columns, coerce_float, dtype)\u001b[0m\n\u001b[0;32m    402\u001b[0m     \u001b[1;32mif\u001b[0m \u001b[0misinstance\u001b[0m\u001b[1;33m(\u001b[0m\u001b[0mdata\u001b[0m\u001b[1;33m[\u001b[0m\u001b[1;36m0\u001b[0m\u001b[1;33m]\u001b[0m\u001b[1;33m,\u001b[0m \u001b[1;33m(\u001b[0m\u001b[0mlist\u001b[0m\u001b[1;33m,\u001b[0m \u001b[0mtuple\u001b[0m\u001b[1;33m)\u001b[0m\u001b[1;33m)\u001b[0m\u001b[1;33m:\u001b[0m\u001b[1;33m\u001b[0m\u001b[1;33m\u001b[0m\u001b[0m\n\u001b[0;32m    403\u001b[0m         return _list_to_arrays(data, columns, coerce_float=coerce_float,\n\u001b[1;32m--> 404\u001b[1;33m                                dtype=dtype)\n\u001b[0m\u001b[0;32m    405\u001b[0m     \u001b[1;32melif\u001b[0m \u001b[0misinstance\u001b[0m\u001b[1;33m(\u001b[0m\u001b[0mdata\u001b[0m\u001b[1;33m[\u001b[0m\u001b[1;36m0\u001b[0m\u001b[1;33m]\u001b[0m\u001b[1;33m,\u001b[0m \u001b[0mcompat\u001b[0m\u001b[1;33m.\u001b[0m\u001b[0mMapping\u001b[0m\u001b[1;33m)\u001b[0m\u001b[1;33m:\u001b[0m\u001b[1;33m\u001b[0m\u001b[1;33m\u001b[0m\u001b[0m\n\u001b[0;32m    406\u001b[0m         return _list_of_dict_to_arrays(data, columns,\n",
      "\u001b[1;32mc:\\users\\user\\documents\\gitprojects\\holoclean-provenance\\hc\\lib\\site-packages\\pandas\\core\\internals\\construction.py\u001b[0m in \u001b[0;36m_list_to_arrays\u001b[1;34m(data, columns, coerce_float, dtype)\u001b[0m\n\u001b[0;32m    434\u001b[0m         \u001b[0mcontent\u001b[0m \u001b[1;33m=\u001b[0m \u001b[0mlist\u001b[0m\u001b[1;33m(\u001b[0m\u001b[0mlib\u001b[0m\u001b[1;33m.\u001b[0m\u001b[0mto_object_array\u001b[0m\u001b[1;33m(\u001b[0m\u001b[0mdata\u001b[0m\u001b[1;33m)\u001b[0m\u001b[1;33m.\u001b[0m\u001b[0mT\u001b[0m\u001b[1;33m)\u001b[0m\u001b[1;33m\u001b[0m\u001b[1;33m\u001b[0m\u001b[0m\n\u001b[0;32m    435\u001b[0m     return _convert_object_array(content, columns, dtype=dtype,\n\u001b[1;32m--> 436\u001b[1;33m                                  coerce_float=coerce_float)\n\u001b[0m\u001b[0;32m    437\u001b[0m \u001b[1;33m\u001b[0m\u001b[0m\n\u001b[0;32m    438\u001b[0m \u001b[1;33m\u001b[0m\u001b[0m\n",
      "\u001b[1;32mc:\\users\\user\\documents\\gitprojects\\holoclean-provenance\\hc\\lib\\site-packages\\pandas\\core\\internals\\construction.py\u001b[0m in \u001b[0;36m_convert_object_array\u001b[1;34m(content, columns, coerce_float, dtype)\u001b[0m\n\u001b[0;32m    490\u001b[0m             raise AssertionError('{col:d} columns passed, passed data had '\n\u001b[0;32m    491\u001b[0m                                  '{con} columns'.format(col=len(columns),\n\u001b[1;32m--> 492\u001b[1;33m                                                         con=len(content)))\n\u001b[0m\u001b[0;32m    493\u001b[0m \u001b[1;33m\u001b[0m\u001b[0m\n\u001b[0;32m    494\u001b[0m     \u001b[1;31m# provide soft conversion of object dtypes\u001b[0m\u001b[1;33m\u001b[0m\u001b[1;33m\u001b[0m\u001b[1;33m\u001b[0m\u001b[0m\n",
      "\u001b[1;31mAssertionError\u001b[0m: 4 columns passed, passed data had 3 columns"
     ]
    }
   ],
   "source": [
    "data = [\n",
    "    [\"Spanish\", \"Barcelona\", \"Spain\"],\n",
    "    [\"La Liga\", \"Madrid\", \"Spain\"],\n",
    "    [\"La Liga\", \"Madrid\", \"Spain\"],\n",
    "    [\"La Liga\", \"Madrid\", \"Espana\"],\n",
    "    [\"La Liga\", \"Madrid\", \"Spain\"]\n",
    "]\n",
    "\n",
    "df = pd.DataFrame(data, columns=[\"Team\", \"League\", \"City\", \"Country\"])"
   ]
  },
  {
   "cell_type": "code",
   "execution_count": null,
   "metadata": {},
   "outputs": [],
   "source": [
    "# data = [\n",
    "#     [\"birmingham\", \"jefferson\"],\n",
    "#     [\"sheffield\", \"jefferson\"],\n",
    "#     [\"sheffield\", \"jefferson\"],\n",
    "#     [\"birmixgham\", \"jefferson\"],\n",
    "#     [\"birmingham\", \"jefferson\"],\n",
    "#     [\"sheffield\", \"jeffxrson\"],\n",
    "#     [\"sheffield\", \"jefferson\"],\n",
    "#     [\"sheffield\", \"jefferson\"],\n",
    "#     [\"birmingham\", \"jefferson\"],\n",
    "# ]\n",
    "\n",
    "# df = pd.DataFrame(data, columns=[\"City\", \"County\"])"
   ]
  },
  {
   "cell_type": "code",
   "execution_count": 117,
   "metadata": {},
   "outputs": [
    {
     "data": {
      "text/html": [
       "<div>\n",
       "<style scoped>\n",
       "    .dataframe tbody tr th:only-of-type {\n",
       "        vertical-align: middle;\n",
       "    }\n",
       "\n",
       "    .dataframe tbody tr th {\n",
       "        vertical-align: top;\n",
       "    }\n",
       "\n",
       "    .dataframe thead th {\n",
       "        text-align: right;\n",
       "    }\n",
       "</style>\n",
       "<table border=\"1\" class=\"dataframe\">\n",
       "  <thead>\n",
       "    <tr style=\"text-align: right;\">\n",
       "      <th></th>\n",
       "      <th>League</th>\n",
       "      <th>City</th>\n",
       "      <th>Country</th>\n",
       "    </tr>\n",
       "  </thead>\n",
       "  <tbody>\n",
       "    <tr>\n",
       "      <th>0</th>\n",
       "      <td>Spanish</td>\n",
       "      <td>Barcelona</td>\n",
       "      <td>Spain</td>\n",
       "    </tr>\n",
       "    <tr>\n",
       "      <th>1</th>\n",
       "      <td>La Liga</td>\n",
       "      <td>Madrid</td>\n",
       "      <td>Spain</td>\n",
       "    </tr>\n",
       "    <tr>\n",
       "      <th>2</th>\n",
       "      <td>La Liga</td>\n",
       "      <td>Madrid</td>\n",
       "      <td>Spain</td>\n",
       "    </tr>\n",
       "    <tr>\n",
       "      <th>3</th>\n",
       "      <td>La Liga</td>\n",
       "      <td>Madrid</td>\n",
       "      <td>Espana</td>\n",
       "    </tr>\n",
       "    <tr>\n",
       "      <th>4</th>\n",
       "      <td>La Liga</td>\n",
       "      <td>Madrid</td>\n",
       "      <td>Spain</td>\n",
       "    </tr>\n",
       "  </tbody>\n",
       "</table>\n",
       "</div>"
      ],
      "text/plain": [
       "    League       City Country\n",
       "0  Spanish  Barcelona   Spain\n",
       "1  La Liga     Madrid   Spain\n",
       "2  La Liga     Madrid   Spain\n",
       "3  La Liga     Madrid  Espana\n",
       "4  La Liga     Madrid   Spain"
      ]
     },
     "execution_count": 117,
     "metadata": {},
     "output_type": "execute_result"
    }
   ],
   "source": [
    "df"
   ]
  },
  {
   "cell_type": "code",
   "execution_count": 118,
   "metadata": {},
   "outputs": [],
   "source": [
    "constraints = [1, 2, 3]"
   ]
  },
  {
   "cell_type": "code",
   "execution_count": 125,
   "metadata": {},
   "outputs": [],
   "source": [
    "def algo(df, constraints):\n",
    "    df_c = df.copy()\n",
    "    if 1 in constraints:\n",
    "        for i, r in df_c.iterrows():\n",
    "            if r.Team != \"NULL\" and r.City != \"NULL\":\n",
    "                errors = df_c[(df_c.Team == r.Team) & (df_c.City != r.City) & (df_c.City != \"NULL\")]\n",
    "                if errors.shape[0] > 0:\n",
    "                    c = collections.Counter(df_c[df_c.Team == r.Team].City)\n",
    "                    if \"NULL\" in c:\n",
    "                        c.pop(\"NULL\")\n",
    "                    if len(c) > 0:\n",
    "                        if c.most_common(1)[0][1] > 1:\n",
    "                            df_c[\"City\"][i] = c.most_common(1)[0][0] \n",
    "\n",
    "    if 2 in constraints:\n",
    "        for i, r in df_c.iterrows():\n",
    "            if r.League != \"NULL\" and r.Country != \"NULL\":\n",
    "                errors = df_c[(df_c.League == r.League) & (df_c.Country != r.Country) & (df_c.Country != \"NULL\")]\n",
    "                if errors.shape[0] > 0:\n",
    "                    c = collections.Counter(df_c[df_c.League == r.League].Country)\n",
    "                    if \"NULL\" in c:\n",
    "                        c.pop(\"NULL\")\n",
    "                    if len(c) > 0:\n",
    "                        if c.most_common(1)[0][1] > 1:\n",
    "                            df_c[\"Country\"][i] = c.most_common(1)[0][0]\n",
    "                                   \n",
    "                        \n",
    "    if 3 in constraints:\n",
    "        for i, r in df_c.iterrows():\n",
    "            if r.City != \"NULL\" and r.Country != \"NULL\":\n",
    "                errors = df_c[(df_c.City == r.City) & (df_c.Country != r.Country) & (df_c.Country != \"NULL\")]\n",
    "                if errors.shape[0] > 0:\n",
    "                    c = collections.Counter(df_c[df_c.City == r.City].Country)\n",
    "                    if \"NULL\" in c:\n",
    "                        c.pop(\"NULL\")\n",
    "                    if len(c) > 0:\n",
    "                        if c.most_common(1)[0][1] > 1:\n",
    "                            df_c[\"Country\"][i] = c.most_common(1)[0][0]\n",
    "\n",
    "\n",
    "    \n",
    "    return df_c"
   ]
  },
  {
   "cell_type": "code",
   "execution_count": 126,
   "metadata": {},
   "outputs": [
    {
     "data": {
      "text/html": [
       "<div>\n",
       "<style scoped>\n",
       "    .dataframe tbody tr th:only-of-type {\n",
       "        vertical-align: middle;\n",
       "    }\n",
       "\n",
       "    .dataframe tbody tr th {\n",
       "        vertical-align: top;\n",
       "    }\n",
       "\n",
       "    .dataframe thead th {\n",
       "        text-align: right;\n",
       "    }\n",
       "</style>\n",
       "<table border=\"1\" class=\"dataframe\">\n",
       "  <thead>\n",
       "    <tr style=\"text-align: right;\">\n",
       "      <th></th>\n",
       "      <th>League</th>\n",
       "      <th>City</th>\n",
       "      <th>Country</th>\n",
       "    </tr>\n",
       "  </thead>\n",
       "  <tbody>\n",
       "    <tr>\n",
       "      <th>0</th>\n",
       "      <td>Spanish</td>\n",
       "      <td>Barcelona</td>\n",
       "      <td>Spain</td>\n",
       "    </tr>\n",
       "    <tr>\n",
       "      <th>1</th>\n",
       "      <td>La Liga</td>\n",
       "      <td>Madrid</td>\n",
       "      <td>Spain</td>\n",
       "    </tr>\n",
       "    <tr>\n",
       "      <th>2</th>\n",
       "      <td>La Liga</td>\n",
       "      <td>Madrid</td>\n",
       "      <td>Spain</td>\n",
       "    </tr>\n",
       "    <tr>\n",
       "      <th>3</th>\n",
       "      <td>La Liga</td>\n",
       "      <td>Madrid</td>\n",
       "      <td>Spain</td>\n",
       "    </tr>\n",
       "    <tr>\n",
       "      <th>4</th>\n",
       "      <td>La Liga</td>\n",
       "      <td>Madrid</td>\n",
       "      <td>Spain</td>\n",
       "    </tr>\n",
       "  </tbody>\n",
       "</table>\n",
       "</div>"
      ],
      "text/plain": [
       "    League       City Country\n",
       "0  Spanish  Barcelona   Spain\n",
       "1  La Liga     Madrid   Spain\n",
       "2  La Liga     Madrid   Spain\n",
       "3  La Liga     Madrid   Spain\n",
       "4  La Liga     Madrid   Spain"
      ]
     },
     "execution_count": 126,
     "metadata": {},
     "output_type": "execute_result"
    }
   ],
   "source": [
    "algo(df, [1, 2, 3])"
   ]
  },
  {
   "cell_type": "code",
   "execution_count": 127,
   "metadata": {},
   "outputs": [
    {
     "data": {
      "text/html": [
       "<div>\n",
       "<style scoped>\n",
       "    .dataframe tbody tr th:only-of-type {\n",
       "        vertical-align: middle;\n",
       "    }\n",
       "\n",
       "    .dataframe tbody tr th {\n",
       "        vertical-align: top;\n",
       "    }\n",
       "\n",
       "    .dataframe thead th {\n",
       "        text-align: right;\n",
       "    }\n",
       "</style>\n",
       "<table border=\"1\" class=\"dataframe\">\n",
       "  <thead>\n",
       "    <tr style=\"text-align: right;\">\n",
       "      <th></th>\n",
       "      <th>League</th>\n",
       "      <th>City</th>\n",
       "      <th>Country</th>\n",
       "    </tr>\n",
       "  </thead>\n",
       "  <tbody>\n",
       "    <tr>\n",
       "      <th>0</th>\n",
       "      <td>Spanish</td>\n",
       "      <td>Barcelona</td>\n",
       "      <td>Spain</td>\n",
       "    </tr>\n",
       "    <tr>\n",
       "      <th>1</th>\n",
       "      <td>La Liga</td>\n",
       "      <td>Madrid</td>\n",
       "      <td>Spain</td>\n",
       "    </tr>\n",
       "    <tr>\n",
       "      <th>2</th>\n",
       "      <td>La Liga</td>\n",
       "      <td>Madrid</td>\n",
       "      <td>Spain</td>\n",
       "    </tr>\n",
       "    <tr>\n",
       "      <th>3</th>\n",
       "      <td>La Liga</td>\n",
       "      <td>Madrid</td>\n",
       "      <td>Espana</td>\n",
       "    </tr>\n",
       "    <tr>\n",
       "      <th>4</th>\n",
       "      <td>La Liga</td>\n",
       "      <td>Madrid</td>\n",
       "      <td>Spain</td>\n",
       "    </tr>\n",
       "  </tbody>\n",
       "</table>\n",
       "</div>"
      ],
      "text/plain": [
       "    League       City Country\n",
       "0  Spanish  Barcelona   Spain\n",
       "1  La Liga     Madrid   Spain\n",
       "2  La Liga     Madrid   Spain\n",
       "3  La Liga     Madrid  Espana\n",
       "4  La Liga     Madrid   Spain"
      ]
     },
     "execution_count": 127,
     "metadata": {},
     "output_type": "execute_result"
    }
   ],
   "source": [
    "df"
   ]
  },
  {
   "cell_type": "code",
   "execution_count": 128,
   "metadata": {},
   "outputs": [
    {
     "name": "stdout",
     "output_type": "stream",
     "text": [
      "Done with len 0\n",
      "Done with len 1\n",
      "Done with len 2\n",
      "Done with len 3\n",
      "Done with len 4\n",
      "Done with len 5\n",
      "Done with len 6\n",
      "Done with len 7\n",
      "Done with len 8\n",
      "Done with len 9\n",
      "Done with len 10\n",
      "Done with len 11\n",
      "Done with len 12\n",
      "Done with len 13\n",
      "Done with len 14\n",
      "Done with len 15\n",
      "218.77981305122375\n"
     ]
    }
   ],
   "source": [
    "import time\n",
    "df = df\n",
    "constraints = [1, 2, 3]\n",
    "df_copy = df.copy()\n",
    "cells = list(itertools.product(df.index, list(df_copy.columns)))\n",
    "\n",
    "start = time.time()\n",
    "\n",
    "results_shapp = {}\n",
    "for i in range(len(cells) + 1):\n",
    "    for comb in itertools.combinations(cells, i):\n",
    "        df_c2 = df_copy.copy()\n",
    "        for cell in cells:\n",
    "            if cell not in comb:\n",
    "                df_c2[cell[1]][cell[0]] = \"NULL\"\n",
    "        df_repair = algo(df_c2, constraints)\n",
    "        results_shapp[tuple(sorted(comb))] = int(df_repair[\"Country\"][3]==\"Spain\")\n",
    "    print(\"Done with len \" + str(i))\n",
    "print(time.time() - start)"
   ]
  },
  {
   "cell_type": "code",
   "execution_count": null,
   "metadata": {},
   "outputs": [],
   "source": [
    "import time\n",
    "# df = df\n",
    "# constraints = [1, 2, 3]\n",
    "\n",
    "df = pd.read_csv('./testdata/La_Liga.csv')\n",
    "constraints_path = './testdata/La_liga_constraints.txt'\n",
    "\n",
    "\n",
    "df_copy = df.copy()\n",
    "cells = list(itertools.product(df.index, list(df_copy.columns)))\n",
    "\n",
    "start = time.time()\n",
    "\n",
    "results_shapp = {}\n",
    "for i in range(len(cells) + 1):\n",
    "    for comb in itertools.combinations(cells, i):\n",
    "        df_c2 = df_copy.copy()\n",
    "        for cell in cells:\n",
    "            if cell not in comb:\n",
    "                df_c2[cell[1]][cell[0]] = \"NULL\"\n",
    "        df_repair = algo(df_c2, constraints)\n",
    "        results_shapp[tuple(sorted(comb))] = int(df_repair[\"Country\"][0]==\"Spain\")\n",
    "    print(\"Done with len \" + str(i))\n",
    "print(time.time() - start)"
   ]
  },
  {
   "cell_type": "code",
   "execution_count": 129,
   "metadata": {},
   "outputs": [
    {
     "name": "stdout",
     "output_type": "stream",
     "text": [
      "(0, 'League') 0\n",
      "(0, 'City') 0\n",
      "(0, 'Country') 0\n",
      "(1, 'League') 368.6868686868661\n",
      "(1, 'City') 368.6868686868661\n",
      "(1, 'Country') 1020.2020202020149\n",
      "(2, 'League') 368.6868686868661\n",
      "(2, 'City') 368.6868686868661\n",
      "(2, 'Country') 1020.2020202020149\n",
      "(3, 'League') 742.4242424242376\n",
      "(3, 'City') 742.4242424242376\n",
      "(3, 'Country') 3242.424242424254\n",
      "(4, 'League') 368.6868686868661\n",
      "(4, 'City') 368.6868686868661\n",
      "(4, 'Country') 1020.2020202020149\n"
     ]
    }
   ],
   "source": [
    "cells = list(itertools.product(df.index, list(df.columns)))\n",
    "# cells.remove((0, 'Country'))\n",
    "\n",
    "for cell_i in cells:\n",
    "    shapley_value = 0\n",
    "    for comb in results_shapp:\n",
    "        if cell_i not in comb:\n",
    "            comb_i = tuple(sorted(tuple((comb + (cell_i,)))))\n",
    "            factor = math.factorial(len(comb)) * math.factorial(len(cells) - len(comb) - 1)\n",
    "            factor /= math.factorial(len(cells))\n",
    "            if results_shapp[comb_i] and not results_shapp[comb]:\n",
    "                shapley_value += factor*(results_shapp[comb_i] - results_shapp[comb])\n",
    "    print(cell_i, shapley_value * 10000)    "
   ]
  },
  {
   "cell_type": "code",
   "execution_count": 124,
   "metadata": {},
   "outputs": [
    {
     "data": {
      "text/html": [
       "<div>\n",
       "<style scoped>\n",
       "    .dataframe tbody tr th:only-of-type {\n",
       "        vertical-align: middle;\n",
       "    }\n",
       "\n",
       "    .dataframe tbody tr th {\n",
       "        vertical-align: top;\n",
       "    }\n",
       "\n",
       "    .dataframe thead th {\n",
       "        text-align: right;\n",
       "    }\n",
       "</style>\n",
       "<table border=\"1\" class=\"dataframe\">\n",
       "  <thead>\n",
       "    <tr style=\"text-align: right;\">\n",
       "      <th></th>\n",
       "      <th>League</th>\n",
       "      <th>City</th>\n",
       "      <th>Country</th>\n",
       "    </tr>\n",
       "  </thead>\n",
       "  <tbody>\n",
       "    <tr>\n",
       "      <th>0</th>\n",
       "      <td>Spanish</td>\n",
       "      <td>Barcelona</td>\n",
       "      <td>Spain</td>\n",
       "    </tr>\n",
       "    <tr>\n",
       "      <th>1</th>\n",
       "      <td>La Liga</td>\n",
       "      <td>Madrid</td>\n",
       "      <td>Spain</td>\n",
       "    </tr>\n",
       "    <tr>\n",
       "      <th>2</th>\n",
       "      <td>La Liga</td>\n",
       "      <td>Madrid</td>\n",
       "      <td>Spain</td>\n",
       "    </tr>\n",
       "    <tr>\n",
       "      <th>3</th>\n",
       "      <td>La Liga</td>\n",
       "      <td>Madrid</td>\n",
       "      <td>Espana</td>\n",
       "    </tr>\n",
       "    <tr>\n",
       "      <th>4</th>\n",
       "      <td>La Liga</td>\n",
       "      <td>Madrid</td>\n",
       "      <td>Spain</td>\n",
       "    </tr>\n",
       "  </tbody>\n",
       "</table>\n",
       "</div>"
      ],
      "text/plain": [
       "    League       City Country\n",
       "0  Spanish  Barcelona   Spain\n",
       "1  La Liga     Madrid   Spain\n",
       "2  La Liga     Madrid   Spain\n",
       "3  La Liga     Madrid  Espana\n",
       "4  La Liga     Madrid   Spain"
      ]
     },
     "execution_count": 124,
     "metadata": {},
     "output_type": "execute_result"
    }
   ],
   "source": [
    "df"
   ]
  },
  {
   "cell_type": "code",
   "execution_count": 41,
   "metadata": {},
   "outputs": [
    {
     "data": {
      "text/plain": [
       "[(0, 'League'),\n",
       " (0, 'City'),\n",
       " (0, 'Country'),\n",
       " (1, 'League'),\n",
       " (1, 'City'),\n",
       " (1, 'Country'),\n",
       " (2, 'League'),\n",
       " (2, 'City'),\n",
       " (2, 'Country'),\n",
       " (3, 'League'),\n",
       " (3, 'City'),\n",
       " (3, 'Country'),\n",
       " (4, 'League'),\n",
       " (4, 'City'),\n",
       " (4, 'Country'),\n",
       " (5, 'League'),\n",
       " (5, 'City'),\n",
       " (5, 'Country')]"
      ]
     },
     "execution_count": 41,
     "metadata": {},
     "output_type": "execute_result"
    }
   ],
   "source": [
    "cells"
   ]
  },
  {
   "cell_type": "code",
   "execution_count": 4,
   "metadata": {},
   "outputs": [
    {
     "name": "stderr",
     "output_type": "stream",
     "text": [
      "No handles with labels found to put in legend.\n"
     ]
    },
    {
     "data": {
      "image/png": "[encoded data removed]",
      "text/plain": [
       "<Figure size 432x288 with 1 Axes>"
      ]
     },
     "metadata": {
      "needs_background": "light"
     },
     "output_type": "display_data"
    }
   ],
   "source": [
    "%matplotlib inline\n",
    "import matplotlib.pyplot as plt\n",
    "# plt.plot([220, 2000, 5500, 12100, 55000, 121000, 537262], [1.9/60, 2.5/60, 14.4/60, 21.5/60, 44.2/60, 64/60, 233/60], label='Adult')\n",
    "# plt.plot([220, 2000, 5500, 12100], [43.5/3600, 1465/3600, 10535/3600, 50211/3600], label='Adult', color='orange')\n",
    "\n",
    "\n",
    "plt.xlabel('Cells in Table')\n",
    "plt.ylabel('Running Time (minutes)')\n",
    "plt.legend()\n",
    "plt.show()"
   ]
  },
  {
   "cell_type": "code",
   "execution_count": 5,
   "metadata": {},
   "outputs": [
    {
     "data": {
      "image/png": "[encoded data removed]",
      "text/plain": [
       "<Figure size 432x288 with 1 Axes>"
      ]
     },
     "metadata": {
      "needs_background": "light"
     },
     "output_type": "display_data"
    }
   ],
   "source": [
    "%matplotlib inline\n",
    "import matplotlib.pyplot as plt\n",
    "fig, ax = plt.subplots()\n",
    "plt.plot([2, 3, 4, 5, 6, 7, 8, 9], [220/60 ,392/60 ,512/60 ,728/60 ,916/60 ,1002/60 ,1178/60 ,1315/60])\n",
    "plt.xlabel('Relevant Constraints set size', size=18)\n",
    "plt.ylabel('Runtime (Minutes)', size=18)\n",
    "ax.tick_params(axis='y', which='major', labelsize=17)\n",
    "ax.tick_params(axis='x', which='major', labelsize=17)\n",
    "plt.show()"
   ]
  },
  {
   "cell_type": "code",
   "execution_count": 47,
   "metadata": {},
   "outputs": [
    {
     "data": {
      "image/png": "[encoded data removed]",
      "text/plain": [
       "<Figure size 576x288 with 1 Axes>"
      ]
     },
     "metadata": {
      "needs_background": "light"
     },
     "output_type": "display_data"
    }
   ],
   "source": [
    "import numpy as np\n",
    "labels = [2, 3, 4, 5, 6, 7, 8, 9]\n",
    "trexc = [220/600 ,392/600 ,512/600 ,728/600 ,916/600 ,1002/600 ,1178/600 ,1315/600]\n",
    "\n",
    "x = np.arange(len(labels))  # the label locations\n",
    "width = 0.5  # the width of the bars\n",
    "\n",
    "fig, ax = plt.subplots(figsize=(8,4))\n",
    "rects1 = ax.bar(x, trexc, width, label='TREx')\n",
    "\n",
    "# Add some text for labels, title and custom x-axis tick labels, etc.\n",
    "ax.set_ylabel('Runtime (Minutes)', size=23)\n",
    "\n",
    "ax.set_xticks(x)\n",
    "plt.xlabel('Relevant Constraints set size', size=23)\n",
    "ax.set_xticklabels(labels)\n",
    "ax.tick_params(axis='y', which='major', labelsize=22)\n",
    "ax.tick_params(axis='x', which='major', labelsize=23)\n",
    "fig.tight_layout()\n",
    "plt.show()"
   ]
  },
  {
   "cell_type": "code",
   "execution_count": 98,
   "metadata": {},
   "outputs": [
    {
     "data": {
      "image/png": "[encoded data removed]",
      "text/plain": [
       "<Figure size 432x288 with 1 Axes>"
      ]
     },
     "metadata": {
      "needs_background": "light"
     },
     "output_type": "display_data"
    }
   ],
   "source": [
    "%matplotlib inline\n",
    "import matplotlib.pyplot as plt\n",
    "plt.plot([2100, 4200, 6300, 8400, 10500], [28280/36000 ,97230/36000 ,218190/36000, 464156/36000 ,1036350/36000], label='Hospital', color='orange')\n",
    "# plt.plot([2100, 10500, 21000, 105000], [268/36000 ,10170/36000 ,22020/36000 ,152630/36000], label='Hospital')\n",
    "\n",
    "plt.xlabel('Number of cells')\n",
    "plt.ylabel('Running Time (hours)')\n",
    "plt.legend()\n",
    "plt.show()"
   ]
  },
  {
   "cell_type": "code",
   "execution_count": 85,
   "metadata": {},
   "outputs": [
    {
     "data": {
      "text/plain": [
       "110100"
      ]
     },
     "execution_count": 85,
     "metadata": {},
     "output_type": "execute_result"
    }
   ],
   "source": [
    "22020*5"
   ]
  },
  {
   "cell_type": "code",
   "execution_count": 89,
   "metadata": {},
   "outputs": [
    {
     "data": {
      "text/plain": [
       "28.7875"
      ]
     },
     "execution_count": 89,
     "metadata": {},
     "output_type": "execute_result"
    }
   ],
   "source": [
    "14805*70/36000"
   ]
  },
  {
   "cell_type": "code",
   "execution_count": 55,
   "metadata": {},
   "outputs": [
    {
     "data": {
      "image/png": "[encoded data removed]",
      "text/plain": [
       "<Figure size 432x288 with 1 Axes>"
      ]
     },
     "metadata": {
      "needs_background": "light"
     },
     "output_type": "display_data"
    }
   ],
   "source": [
    "import matplotlib\n",
    "import matplotlib.pyplot as plt\n",
    "import numpy as np\n",
    "\n",
    "\n",
    "labels = [\"220\", \"2.2K\", \"5.5K\", \"12.1K\", \"55K\", \"121K\", \"537K\"]\n",
    "trex = [1.9/60, 2.5/60, 14.4/60, 21.5/60, 44.2/60, 64/60, 233/60]\n",
    "slovenian = [43.5/60, 1465/60, 10535/60, 50211/60, 0, 0, 0]\n",
    "SHAP = [8.5/60, 385/60, 1315/60, 2810/60, 0, 0, 0]\n",
    "\n",
    "x = np.arange(len(labels))  # the label locations\n",
    "width = 0.25  # the width of the bars\n",
    "\n",
    "fig, ax = plt.subplots()\n",
    "rects1 = ax.bar(x - 2*width/3, trex, width, label='TREx')\n",
    "rects2 = ax.bar(x + 4* width/3, slovenian, width, label='Monte Carlo')\n",
    "rects2 = ax.bar(x + width/3, SHAP, width, label='SHAP')\n",
    "\n",
    "# Add some text for labels, title and custom x-axis tick labels, etc.\n",
    "ax.set_ylabel('Runtime (Minutes)', size=18)\n",
    "\n",
    "ax.set_xticks(x)\n",
    "plt.yscale(\"log\")\n",
    "plt.xlabel('Table Size', size=20)\n",
    "ax.set_xticklabels(labels)\n",
    "ax.legend()\n",
    "ax.tick_params(axis='y', which='major', labelsize=17)\n",
    "ax.tick_params(axis='x', which='major', labelsize=17)\n",
    "\n",
    "fig.tight_layout()\n",
    "ax.legend(prop={'size': 15})\n",
    "\n",
    "plt.show()"
   ]
  },
  {
   "cell_type": "code",
   "execution_count": null,
   "metadata": {},
   "outputs": [],
   "source": []
  },
  {
   "cell_type": "code",
   "execution_count": null,
   "metadata": {},
   "outputs": [],
   "source": []
  },
  {
   "cell_type": "code",
   "execution_count": null,
   "metadata": {},
   "outputs": [],
   "source": []
  },
  {
   "cell_type": "code",
   "execution_count": 74,
   "metadata": {},
   "outputs": [
    {
     "data": {
      "image/png": "[encoded data removed]",
      "text/plain": [
       "<Figure size 432x288 with 1 Axes>"
      ]
     },
     "metadata": {
      "needs_background": "light"
     },
     "output_type": "display_data"
    }
   ],
   "source": [
    "labels = [\"2.1K\", \"4.2K\", \"6.3K\", \"8.4K\", \"10.5K\", \"21K\", \"105K\"]\n",
    "trex = [268/600 ,518/600, 1288/600, 3018/600, 10170/600 ,22020/600 ,122630/600]\n",
    "slovenian = [28280/600 ,97230/600 ,218190/600, 464156/600 ,0, 0, 0]\n",
    "SHAP = [2655/60, 1.5*6021/60, 1.5*13125/60, 2.5*16450/60, 0, 0, 0]\n",
    "\n",
    "x = np.arange(len(labels))  # the label locations\n",
    "width = 0.25  # the width of the bars\n",
    "\n",
    "fig, ax = plt.subplots()\n",
    "rects1 = ax.bar(x - 2*width/3, trex, width, label='TREx')\n",
    "rects2 = ax.bar(x + 4* width/3, slovenian, width, label='Monte Carlo')\n",
    "rects3 = ax.bar(x + width/3, SHAP, width, label='SHAP')\n",
    "\n",
    "# Add some text for labels, title and custom x-axis tick labels, etc.\n",
    "ax.set_xticks(x)\n",
    "plt.yscale(\"log\")\n",
    "plt.xlabel('Table Size', size=20)\n",
    "ax.set_ylabel('Runtime (Minutes)', size=18)\n",
    "ax.set_xticklabels(labels)\n",
    "ax.legend(prop={'size': 15})\n",
    "ax.tick_params(axis='y', which='major', labelsize=20)\n",
    "ax.tick_params(axis='x', which='major', labelsize=17)\n",
    "fig.tight_layout()\n",
    "plt.show()"
   ]
  },
  {
   "cell_type": "code",
   "execution_count": 23,
   "metadata": {},
   "outputs": [
    {
     "data": {
      "image/png": "[encoded data removed]",
      "text/plain": [
       "<Figure size 432x288 with 1 Axes>"
      ]
     },
     "metadata": {
      "needs_background": "light"
     },
     "output_type": "display_data"
    }
   ],
   "source": [
    "import matplotlib\n",
    "import matplotlib.pyplot as plt\n",
    "import numpy as np\n",
    "\n",
    "labels = [\"2M\", \"4M\", \"5.7M\", \"9M\", \"14.7M\"]\n",
    "trex = [38.2, 66 ,76.8, 93.2, 132]\n",
    "\n",
    "x = np.arange(len(labels))  # the label locations\n",
    "width = 0.5  # the width of the bars\n",
    "\n",
    "fig, ax = plt.subplots()\n",
    "rects1 = ax.bar(x, trex, width, label='TREx')\n",
    "\n",
    "# Add some text for labels, title and custom x-axis tick labels, etc.\n",
    "ax.set_xticks(x)\n",
    "# plt.yscale(\"log\")\n",
    "plt.xlabel('Table Size', size=20)\n",
    "ax.set_ylabel('Runtime (Minutes)', size=18)\n",
    "ax.set_xticklabels(labels)\n",
    "ax.legend(prop={'size': 15})\n",
    "ax.tick_params(axis='y', which='major', labelsize=20)\n",
    "ax.tick_params(axis='x', which='major', labelsize=17)\n",
    "fig.tight_layout()\n",
    "plt.show()"
   ]
  },
  {
   "cell_type": "code",
   "execution_count": 48,
   "metadata": {},
   "outputs": [
    {
     "data": {
      "image/png": "[encoded data removed]",
      "text/plain": [
       "<Figure size 576x288 with 1 Axes>"
      ]
     },
     "metadata": {
      "needs_background": "light"
     },
     "output_type": "display_data"
    }
   ],
   "source": [
    "labels = [\"Q1\", \"Q2\", \"Q3\", \"Q4\", \"Q5\"]\n",
    "trex = [7,8,10,10,6]\n",
    "SHAP = [0,0,2,0,0]\n",
    "\n",
    "x = np.arange(len(labels))  # the label locations\n",
    "width = 0.25  # the width of the bars\n",
    "\n",
    "fig, ax = plt.subplots(figsize=(8,4))\n",
    "rects1 = ax.bar(x - 2*width/3, trex, width, label='with TREx')\n",
    "rects3 = ax.bar(x + width/3, SHAP, width, label='without TREx')\n",
    "\n",
    "from matplotlib.ticker import (MultipleLocator, FormatStrFormatter,\n",
    "                               AutoMinorLocator)\n",
    "# Add some text for labels, title and custom x-axis tick labels, etc.\n",
    "ax.set_xticks(x)\n",
    "plt.xlabel('Question Number', size=21)\n",
    "ax.set_ylabel('Users \\nAnswering Correct', size=21)\n",
    "ax.set_xticklabels(labels)\n",
    "ax.legend(prop={'size': 20})\n",
    "ax.yaxis.set_major_locator(MultipleLocator(1))\n",
    "ax.tick_params(axis='y', which='major', labelsize=21)\n",
    "ax.tick_params(axis='x', which='major', labelsize=22)\n",
    "fig.tight_layout()\n",
    "plt.show()"
   ]
  },
  {
   "cell_type": "code",
   "execution_count": null,
   "metadata": {},
   "outputs": [],
   "source": []
  }
 ],
 "metadata": {
  "kernelspec": {
   "display_name": "Python 3",
   "language": "python",
   "name": "python3"
  },
  "language_info": {
   "codemirror_mode": {
    "name": "ipython",
    "version": 3
   },
   "file_extension": ".py",
   "mimetype": "text/x-python",
   "name": "python",
   "nbconvert_exporter": "python",
   "pygments_lexer": "ipython3",
   "version": "3.6.7"
  }
 },
 "nbformat": 4,
 "nbformat_minor": 2
}
